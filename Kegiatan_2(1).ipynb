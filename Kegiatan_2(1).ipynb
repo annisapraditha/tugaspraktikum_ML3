{
  "nbformat": 4,
  "nbformat_minor": 0,
  "metadata": {
    "colab": {
      "name": "Kegiatan 2.ipynb",
      "provenance": [],
      "include_colab_link": true
    },
    "kernelspec": {
      "name": "python3",
      "display_name": "Python 3"
    },
    "language_info": {
      "name": "python"
    },
    "accelerator": "GPU"
  },
  "cells": [
    {
      "cell_type": "markdown",
      "metadata": {
        "id": "view-in-github",
        "colab_type": "text"
      },
      "source": [
        "<a href=\"https://colab.research.google.com/github/annisapraditha/tugaspraktikum_ML3/blob/main/Kegiatan_2(1).ipynb\" target=\"_parent\"><img src=\"https://colab.research.google.com/assets/colab-badge.svg\" alt=\"Open In Colab\"/></a>"
      ]
    },
    {
      "cell_type": "code",
      "metadata": {
        "colab": {
          "base_uri": "https://localhost:8080/"
        },
        "id": "2OL4BjyBf9l5",
        "outputId": "efd38144-c044-4a19-d899-be1b658cd41b"
      },
      "source": [
        "from google.colab import drive #run\n",
        "drive.mount('/content/drive')"
      ],
      "execution_count": 1,
      "outputs": [
        {
          "output_type": "stream",
          "name": "stdout",
          "text": [
            "Mounted at /content/drive\n"
          ]
        }
      ]
    },
    {
      "cell_type": "code",
      "metadata": {
        "colab": {
          "base_uri": "https://localhost:8080/"
        },
        "id": "A2h8_FKpEFjk",
        "outputId": "96f001c8-c762-4baa-dd86-3f25f03594ea"
      },
      "source": [
        "ls #run"
      ],
      "execution_count": 2,
      "outputs": [
        {
          "output_type": "stream",
          "name": "stdout",
          "text": [
            "\u001b[0m\u001b[01;34mdrive\u001b[0m/  \u001b[01;34msample_data\u001b[0m/\n"
          ]
        }
      ]
    },
    {
      "cell_type": "code",
      "metadata": {
        "colab": {
          "base_uri": "https://localhost:8080/"
        },
        "id": "YUk_hoyCf-Bp",
        "outputId": "199e7f4c-4701-4600-f32e-e9f3a2ac3806"
      },
      "source": [
        "cd drive/MyDrive/DATASET/skin-lesions/ #run"
      ],
      "execution_count": 3,
      "outputs": [
        {
          "output_type": "stream",
          "name": "stdout",
          "text": [
            "/content/drive/MyDrive/DATASET/skin-lesions\n"
          ]
        }
      ]
    },
    {
      "cell_type": "code",
      "metadata": {
        "colab": {
          "base_uri": "https://localhost:8080/"
        },
        "id": "zeQMqKgu6qZZ",
        "outputId": "a23364e0-3aff-438c-c3b4-22b84f1de5c8"
      },
      "source": [
        "ls #run"
      ],
      "execution_count": 4,
      "outputs": [
        {
          "output_type": "stream",
          "name": "stdout",
          "text": [
            " modul3.h5                    \u001b[0m\u001b[01;34m'new split dataset 80:19:1'\u001b[0m/   \u001b[01;34mtrain\u001b[0m/\n",
            "\u001b[01;34m'new split dataset 75:14:1'\u001b[0m/   \u001b[01;34mtest\u001b[0m/                         \u001b[01;34mvalid\u001b[0m/\n"
          ]
        }
      ]
    },
    {
      "cell_type": "code",
      "metadata": {
        "id": "rNs8FcQTf-Gt"
      },
      "source": [
        "train_dir = \"train\" #run\n",
        "test_dir = \"test\"\n",
        "valid_dir = \"valid\""
      ],
      "execution_count": 5,
      "outputs": []
    },
    {
      "cell_type": "code",
      "metadata": {
        "colab": {
          "base_uri": "https://localhost:8080/"
        },
        "id": "53yDgnG2f-Jl",
        "outputId": "f23f606f-f5d6-48fb-9691-07975eae86b9"
      },
      "source": [
        "!pip install split-folders"
      ],
      "execution_count": 6,
      "outputs": [
        {
          "output_type": "stream",
          "name": "stdout",
          "text": [
            "Collecting split-folders\n",
            "  Downloading split_folders-0.4.3-py3-none-any.whl (7.4 kB)\n",
            "Installing collected packages: split-folders\n",
            "Successfully installed split-folders-0.4.3\n"
          ]
        }
      ]
    },
    {
      "cell_type": "code",
      "metadata": {
        "id": "tkUb8Ahhng0A"
      },
      "source": [
        "import splitfolders  # or import split_folders #run\n",
        "\n",
        "# Split with a ratio.\n",
        "# To only split into training and validation set, set a tuple to `ratio`, i.e, `(.8, .2)`.\n",
        "splitfolders.ratio(\"train\", output=\"new split dataset 80:19:1\", seed=1337, ratio=(.80, .19, .01), group_prefix=None) # default value"
      ],
      "execution_count": null,
      "outputs": []
    },
    {
      "cell_type": "code",
      "metadata": {
        "colab": {
          "base_uri": "https://localhost:8080/"
        },
        "id": "yrWwIZDlyEz-",
        "outputId": "4026aee5-2c93-4f8d-ae84-e71c6ec8a79c"
      },
      "source": [
        "ls #run"
      ],
      "execution_count": 8,
      "outputs": [
        {
          "output_type": "stream",
          "name": "stdout",
          "text": [
            " modul3.h5                    \u001b[0m\u001b[01;34m'new split dataset 80:19:1'\u001b[0m/   \u001b[01;34mtrain\u001b[0m/\n",
            "\u001b[01;34m'new split dataset 75:14:1'\u001b[0m/   \u001b[01;34mtest\u001b[0m/                         \u001b[01;34mvalid\u001b[0m/\n"
          ]
        }
      ]
    },
    {
      "cell_type": "code",
      "metadata": {
        "colab": {
          "base_uri": "https://localhost:8080/"
        },
        "id": "A12YUcuH_bR0",
        "outputId": "9bcf66f1-5de1-49a7-d4e8-e519f5963a4c"
      },
      "source": [
        "ls \"new split dataset 80:19:1\" #run"
      ],
      "execution_count": 9,
      "outputs": [
        {
          "output_type": "stream",
          "name": "stdout",
          "text": [
            "\u001b[0m\u001b[01;34mtest\u001b[0m/  \u001b[01;34mtrain\u001b[0m/  \u001b[01;34mval\u001b[0m/\n"
          ]
        }
      ]
    },
    {
      "cell_type": "code",
      "metadata": {
        "id": "_Eu5XtIyf-MV"
      },
      "source": [
        "train_path = \"new split dataset 80:19:1/train\" #run\n",
        "test_path  = \"new split dataset 80:19:1/test\"\n",
        "val_path   = \"new split dataset 80:19:1/val\""
      ],
      "execution_count": 12,
      "outputs": []
    },
    {
      "cell_type": "code",
      "metadata": {
        "id": "fjjmsx0q_xm_"
      },
      "source": [
        "from keras.preprocessing.image import ImageDataGenerator #run\n",
        "\n",
        "train_datagen = ImageDataGenerator(rescale=1./255,\n",
        "                                   shear_range=0.2,\n",
        "                                   zoom_range=0.2,\n",
        "                                   horizontal_flip=True)\n",
        "val_datagen = ImageDataGenerator(rescale=1./255)"
      ],
      "execution_count": 13,
      "outputs": []
    },
    {
      "cell_type": "code",
      "metadata": {
        "colab": {
          "base_uri": "https://localhost:8080/"
        },
        "id": "P44-2kve_7tP",
        "outputId": "0de06e19-0715-4732-9f1d-d8d12da6aaa0"
      },
      "source": [
        "training_set = train_datagen.flow_from_directory(  train_path, #run\n",
        "                                       target_size=(128, 128),\n",
        "                                             color_mode=\"rgb\",\n",
        "                                                batch_size=32,\n",
        "                                     class_mode='categorical',\n",
        "                                               shuffle = True)"
      ],
      "execution_count": 14,
      "outputs": [
        {
          "output_type": "stream",
          "name": "stdout",
          "text": [
            "Found 1599 images belonging to 3 classes.\n"
          ]
        }
      ]
    },
    {
      "cell_type": "code",
      "metadata": {
        "colab": {
          "base_uri": "https://localhost:8080/"
        },
        "id": "NsX35jiKAxMZ",
        "outputId": "ae1f419c-a620-4b04-8bf5-90e7803925fc"
      },
      "source": [
        "validation_set = val_datagen.flow_from_directory(    val_path, #run\n",
        "                                       target_size=(128, 128),\n",
        "                                             color_mode=\"rgb\",\n",
        "                                                batch_size=32,\n",
        "                                     class_mode='categorical',\n",
        "                                               shuffle = False)"
      ],
      "execution_count": 15,
      "outputs": [
        {
          "output_type": "stream",
          "name": "stdout",
          "text": [
            "Found 379 images belonging to 3 classes.\n"
          ]
        }
      ]
    },
    {
      "cell_type": "code",
      "metadata": {
        "colab": {
          "base_uri": "https://localhost:8080/"
        },
        "id": "QOwDWyavA1NV",
        "outputId": "c5316fee-6fd5-4158-867f-f0acbd5e365f"
      },
      "source": [
        "test_set = val_datagen.flow_from_directory(         test_path, #run\n",
        "                                       target_size=(128, 128),\n",
        "                                             color_mode=\"rgb\",\n",
        "                                                batch_size=32,\n",
        "                                     class_mode='categorical',\n",
        "                                               shuffle = False)"
      ],
      "execution_count": 16,
      "outputs": [
        {
          "output_type": "stream",
          "name": "stdout",
          "text": [
            "Found 22 images belonging to 3 classes.\n"
          ]
        }
      ]
    },
    {
      "cell_type": "code",
      "metadata": {
        "id": "ng3gs3ohf-O0"
      },
      "source": [
        "# IMPORT SEMUA PAKET YANG ANDA PERLUKAN UNTUK MENDEFINISIKAN MODEL DISINI\n",
        "import tensorflow as tf #run\n",
        "from tensorflow.keras import backend\n",
        "from tensorflow import keras\n",
        "from tensorflow.keras.models import Sequential\n",
        "from tensorflow.keras.layers import InputLayer, Activation, Dense, Conv2D, MaxPool2D, Dropout, Flatten, BatchNormalization\n",
        "from tensorflow.keras.optimizers import Adam, SGD\n",
        "from tensorflow.keras.callbacks import EarlyStopping\n",
        "import numpy as np\n",
        "import pandas as pd\n",
        "import matplotlib.pyplot as plt"
      ],
      "execution_count": 17,
      "outputs": []
    },
    {
      "cell_type": "code",
      "metadata": {
        "id": "Shqpj-lgf-Ts"
      },
      "source": [
        "# DEFINISIKAN MODEL ANDA DISINI #run\n",
        "model = Sequential()\n",
        "\n",
        "model.add(InputLayer(input_shape=[128,128,3]))\n",
        "\n",
        "model.add(Conv2D(filters=128, kernel_size=3, strides=1, padding='same', activation='relu'))\n",
        "model.add(MaxPool2D(pool_size=2, padding='same'))\n",
        "\n",
        "model.add(Conv2D(filters=64, kernel_size=3, strides=1, padding='same', activation='relu'))\n",
        "model.add(BatchNormalization())\n",
        "model.add(MaxPool2D(pool_size=2, padding='same'))\n",
        "\n",
        "model.add(Conv2D(filters=16, kernel_size=3, strides=1, padding='same', activation='relu'))\n",
        "model.add(MaxPool2D(pool_size=2, padding='same'))\n",
        "\n",
        "model.add(Conv2D(filters=16, kernel_size=3, strides=1, padding='same', activation='relu'))\n",
        "model.add(BatchNormalization())\n",
        "model.add(MaxPool2D(pool_size=2, padding='same'))\n",
        "model.add(Flatten())\n",
        "\n",
        "# Fully Connected Layer\n",
        "model.add(Dense(128, activation='relu'))\n",
        "model.add(Dropout(0.4))\n",
        "model.add(Dense(32, activation='relu'))\n",
        "model.add(Dropout(0.4))\n",
        "model.add(Dense(3, activation='softmax'))"
      ],
      "execution_count": 18,
      "outputs": []
    },
    {
      "cell_type": "code",
      "metadata": {
        "colab": {
          "base_uri": "https://localhost:8080/"
        },
        "id": "zpWLAC9WgRKb",
        "outputId": "e79f923c-95eb-4186-9c29-03549720f0f8"
      },
      "source": [
        "# TULIS CODE UNTUK MENAMPILKAN SUMMARY DARI ARSITEKTUR MODEL ANDA DISINI\n",
        "print(model.summary()) #run"
      ],
      "execution_count": 19,
      "outputs": [
        {
          "output_type": "stream",
          "name": "stdout",
          "text": [
            "Model: \"sequential\"\n",
            "_________________________________________________________________\n",
            "Layer (type)                 Output Shape              Param #   \n",
            "=================================================================\n",
            "conv2d (Conv2D)              (None, 128, 128, 128)     3584      \n",
            "_________________________________________________________________\n",
            "max_pooling2d (MaxPooling2D) (None, 64, 64, 128)       0         \n",
            "_________________________________________________________________\n",
            "conv2d_1 (Conv2D)            (None, 64, 64, 64)        73792     \n",
            "_________________________________________________________________\n",
            "batch_normalization (BatchNo (None, 64, 64, 64)        256       \n",
            "_________________________________________________________________\n",
            "max_pooling2d_1 (MaxPooling2 (None, 32, 32, 64)        0         \n",
            "_________________________________________________________________\n",
            "conv2d_2 (Conv2D)            (None, 32, 32, 16)        9232      \n",
            "_________________________________________________________________\n",
            "max_pooling2d_2 (MaxPooling2 (None, 16, 16, 16)        0         \n",
            "_________________________________________________________________\n",
            "conv2d_3 (Conv2D)            (None, 16, 16, 16)        2320      \n",
            "_________________________________________________________________\n",
            "batch_normalization_1 (Batch (None, 16, 16, 16)        64        \n",
            "_________________________________________________________________\n",
            "max_pooling2d_3 (MaxPooling2 (None, 8, 8, 16)          0         \n",
            "_________________________________________________________________\n",
            "flatten (Flatten)            (None, 1024)              0         \n",
            "_________________________________________________________________\n",
            "dense (Dense)                (None, 128)               131200    \n",
            "_________________________________________________________________\n",
            "dropout (Dropout)            (None, 128)               0         \n",
            "_________________________________________________________________\n",
            "dense_1 (Dense)              (None, 32)                4128      \n",
            "_________________________________________________________________\n",
            "dropout_1 (Dropout)          (None, 32)                0         \n",
            "_________________________________________________________________\n",
            "dense_2 (Dense)              (None, 3)                 99        \n",
            "=================================================================\n",
            "Total params: 224,675\n",
            "Trainable params: 224,515\n",
            "Non-trainable params: 160\n",
            "_________________________________________________________________\n",
            "None\n"
          ]
        }
      ]
    },
    {
      "cell_type": "code",
      "metadata": {
        "colab": {
          "base_uri": "https://localhost:8080/"
        },
        "id": "zthNBm4QgRNZ",
        "outputId": "3f67bf59-ce82-468d-c1b4-9b4ee150bfc7"
      },
      "source": [
        "# TULIS CODE UNTUK DEFINISI LEARNING RATE DISINI \n",
        "from tensorflow.keras.optimizers import Adam #run\n",
        "\n",
        "model.compile(optimizer=Adam(lr=0.01), \n",
        "              loss='categorical_crossentropy', \n",
        "              metrics=['acc'])"
      ],
      "execution_count": 20,
      "outputs": [
        {
          "output_type": "stream",
          "name": "stderr",
          "text": [
            "/usr/local/lib/python3.7/dist-packages/keras/optimizer_v2/optimizer_v2.py:356: UserWarning: The `lr` argument is deprecated, use `learning_rate` instead.\n",
            "  \"The `lr` argument is deprecated, use `learning_rate` instead.\")\n"
          ]
        }
      ]
    },
    {
      "cell_type": "code",
      "metadata": {
        "id": "_Jbc9xRzgRP6",
        "outputId": "a3352af7-4885-4f6e-c4b3-2c771c8ac048",
        "colab": {
          "base_uri": "https://localhost:8080/"
        }
      },
      "source": [
        "# TULIS CODE UNTUK TRAINING DISINI\n",
        "import time #run\n",
        "\n",
        "start = time.time()\n",
        "H = model.fit_generator(\n",
        "        training_set,\n",
        "        steps_per_epoch=44,\n",
        "        epochs=100,\n",
        "        validation_data=validation_set,\n",
        "        validation_steps=5)"
      ],
      "execution_count": null,
      "outputs": [
        {
          "output_type": "stream",
          "name": "stderr",
          "text": [
            "/usr/local/lib/python3.7/dist-packages/keras/engine/training.py:1972: UserWarning: `Model.fit_generator` is deprecated and will be removed in a future version. Please use `Model.fit`, which supports generators.\n",
            "  warnings.warn('`Model.fit_generator` is deprecated and '\n"
          ]
        },
        {
          "output_type": "stream",
          "name": "stdout",
          "text": [
            "Epoch 1/100\n",
            "44/44 [==============================] - 640s 14s/step - loss: 1.3303 - acc: 0.5913 - val_loss: 1.6211 - val_acc: 0.5562\n",
            "Epoch 2/100\n",
            "44/44 [==============================] - 306s 7s/step - loss: 0.8974 - acc: 0.6766 - val_loss: 0.9115 - val_acc: 0.5562\n",
            "Epoch 3/100\n",
            "44/44 [==============================] - 262s 6s/step - loss: 0.8333 - acc: 0.6944 - val_loss: 0.9375 - val_acc: 0.5562\n",
            "Epoch 4/100\n",
            "44/44 [==============================] - 245s 6s/step - loss: 0.8418 - acc: 0.6811 - val_loss: 0.9702 - val_acc: 0.5562\n",
            "Epoch 5/100\n",
            "44/44 [==============================] - 242s 6s/step - loss: 0.8353 - acc: 0.6802 - val_loss: 0.9524 - val_acc: 0.5562\n",
            "Epoch 6/100\n",
            "44/44 [==============================] - 227s 5s/step - loss: 0.8297 - acc: 0.6896 - val_loss: 0.9106 - val_acc: 0.5562\n",
            "Epoch 7/100\n",
            "44/44 [==============================] - 232s 5s/step - loss: 0.8444 - acc: 0.6766 - val_loss: 0.9408 - val_acc: 0.5562\n",
            "Epoch 8/100\n",
            "44/44 [==============================] - 228s 5s/step - loss: 0.8377 - acc: 0.6816 - val_loss: 0.9436 - val_acc: 0.5562\n",
            "Epoch 9/100\n",
            "44/44 [==============================] - 222s 5s/step - loss: 0.8294 - acc: 0.6875 - val_loss: 0.9471 - val_acc: 0.5562\n",
            "Epoch 10/100\n",
            "44/44 [==============================] - 230s 5s/step - loss: 0.8225 - acc: 0.6908 - val_loss: 0.9417 - val_acc: 0.5562\n",
            "Epoch 11/100\n",
            "44/44 [==============================] - 231s 5s/step - loss: 0.8158 - acc: 0.6887 - val_loss: 0.9505 - val_acc: 0.5562\n",
            "Epoch 12/100\n",
            "44/44 [==============================] - 227s 5s/step - loss: 0.8192 - acc: 0.6908 - val_loss: 0.9437 - val_acc: 0.5562\n",
            "Epoch 13/100\n",
            "44/44 [==============================] - 228s 5s/step - loss: 0.8119 - acc: 0.6986 - val_loss: 0.9168 - val_acc: 0.5562\n",
            "Epoch 14/100\n",
            "44/44 [==============================] - 226s 5s/step - loss: 0.7900 - acc: 0.7129 - val_loss: 0.9479 - val_acc: 0.5562\n",
            "Epoch 15/100\n",
            "44/44 [==============================] - 227s 5s/step - loss: 0.8104 - acc: 0.7015 - val_loss: 0.9447 - val_acc: 0.5562\n",
            "Epoch 16/100\n",
            "44/44 [==============================] - 227s 5s/step - loss: 0.8166 - acc: 0.6908 - val_loss: 0.9480 - val_acc: 0.5562\n",
            "Epoch 17/100\n",
            "44/44 [==============================] - 228s 5s/step - loss: 0.8004 - acc: 0.6994 - val_loss: 0.9425 - val_acc: 0.5562\n",
            "Epoch 18/100\n",
            "44/44 [==============================] - 228s 5s/step - loss: 0.8121 - acc: 0.6986 - val_loss: 0.9297 - val_acc: 0.5562\n",
            "Epoch 19/100\n",
            "44/44 [==============================] - 230s 5s/step - loss: 0.8106 - acc: 0.6937 - val_loss: 0.9367 - val_acc: 0.5562\n",
            "Epoch 20/100\n",
            "44/44 [==============================] - 227s 5s/step - loss: 0.8162 - acc: 0.7001 - val_loss: 0.9223 - val_acc: 0.5562\n",
            "Epoch 21/100\n",
            "44/44 [==============================] - 231s 5s/step - loss: 0.8176 - acc: 0.6958 - val_loss: 0.9311 - val_acc: 0.5562\n",
            "Epoch 22/100\n",
            "44/44 [==============================] - 231s 5s/step - loss: 0.8179 - acc: 0.6923 - val_loss: 0.9418 - val_acc: 0.5562\n",
            "Epoch 23/100\n",
            "44/44 [==============================] - 232s 5s/step - loss: 0.8029 - acc: 0.7001 - val_loss: 0.9413 - val_acc: 0.5562\n",
            "Epoch 24/100\n",
            "44/44 [==============================] - 226s 5s/step - loss: 0.8040 - acc: 0.6986 - val_loss: 0.9289 - val_acc: 0.5562\n",
            "Epoch 25/100\n",
            "44/44 [==============================] - 230s 5s/step - loss: 0.8156 - acc: 0.6944 - val_loss: 0.9331 - val_acc: 0.5562\n",
            "Epoch 26/100\n",
            "44/44 [==============================] - 229s 5s/step - loss: 0.7991 - acc: 0.7036 - val_loss: 0.9309 - val_acc: 0.5562\n",
            "Epoch 27/100\n",
            "44/44 [==============================] - 228s 5s/step - loss: 0.8048 - acc: 0.6986 - val_loss: 0.9387 - val_acc: 0.5562\n",
            "Epoch 28/100\n",
            "44/44 [==============================] - 230s 5s/step - loss: 0.8028 - acc: 0.7001 - val_loss: 0.9337 - val_acc: 0.5562\n",
            "Epoch 29/100\n",
            "44/44 [==============================] - 230s 5s/step - loss: 0.7949 - acc: 0.7050 - val_loss: 0.9462 - val_acc: 0.5562\n",
            "Epoch 30/100\n",
            "44/44 [==============================] - 233s 5s/step - loss: 0.8018 - acc: 0.7036 - val_loss: 0.9436 - val_acc: 0.5562\n",
            "Epoch 31/100\n",
            "44/44 [==============================] - 239s 5s/step - loss: 0.8045 - acc: 0.6979 - val_loss: 0.9341 - val_acc: 0.5562\n",
            "Epoch 32/100\n",
            "44/44 [==============================] - 237s 5s/step - loss: 0.8082 - acc: 0.6979 - val_loss: 0.9556 - val_acc: 0.5562\n",
            "Epoch 33/100\n",
            "44/44 [==============================] - 236s 5s/step - loss: 0.8158 - acc: 0.6958 - val_loss: 0.9412 - val_acc: 0.5562\n",
            "Epoch 34/100\n",
            "44/44 [==============================] - 236s 5s/step - loss: 0.8098 - acc: 0.7036 - val_loss: 0.9514 - val_acc: 0.5562\n",
            "Epoch 35/100\n",
            "44/44 [==============================] - 236s 5s/step - loss: 0.8078 - acc: 0.6972 - val_loss: 0.9410 - val_acc: 0.5562\n",
            "Epoch 36/100\n",
            "44/44 [==============================] - 234s 5s/step - loss: 0.7990 - acc: 0.7036 - val_loss: 0.9361 - val_acc: 0.5562\n",
            "Epoch 37/100\n",
            "44/44 [==============================] - 236s 5s/step - loss: 0.8018 - acc: 0.7022 - val_loss: 0.9520 - val_acc: 0.5562\n",
            "Epoch 38/100\n",
            "44/44 [==============================] - 235s 5s/step - loss: 0.8014 - acc: 0.7029 - val_loss: 0.9436 - val_acc: 0.5562\n",
            "Epoch 39/100\n",
            "44/44 [==============================] - 227s 5s/step - loss: 0.7962 - acc: 0.7036 - val_loss: 0.9869 - val_acc: 0.5562\n",
            "Epoch 40/100\n",
            "44/44 [==============================] - 233s 5s/step - loss: 0.8033 - acc: 0.7015 - val_loss: 0.9322 - val_acc: 0.5562\n",
            "Epoch 41/100\n",
            "44/44 [==============================] - 230s 5s/step - loss: 0.8059 - acc: 0.7015 - val_loss: 0.9428 - val_acc: 0.5562\n",
            "Epoch 42/100\n",
            "44/44 [==============================] - 233s 5s/step - loss: 0.7994 - acc: 0.7015 - val_loss: 0.9393 - val_acc: 0.5562\n",
            "Epoch 43/100\n",
            "44/44 [==============================] - 230s 5s/step - loss: 0.8025 - acc: 0.7036 - val_loss: 0.9448 - val_acc: 0.5562\n",
            "Epoch 44/100\n",
            "44/44 [==============================] - 231s 5s/step - loss: 0.7936 - acc: 0.7086 - val_loss: 0.9500 - val_acc: 0.5562\n",
            "Epoch 45/100\n",
            "44/44 [==============================] - 230s 5s/step - loss: 0.7990 - acc: 0.7043 - val_loss: 0.9473 - val_acc: 0.5562\n",
            "Epoch 46/100\n",
            "44/44 [==============================] - 226s 5s/step - loss: 0.8087 - acc: 0.7022 - val_loss: 0.9370 - val_acc: 0.5562\n",
            "Epoch 47/100\n",
            "44/44 [==============================] - 223s 5s/step - loss: 0.8043 - acc: 0.6958 - val_loss: 0.9679 - val_acc: 0.5500\n",
            "Epoch 48/100\n",
            "44/44 [==============================] - 218s 5s/step - loss: 0.8006 - acc: 0.6989 - val_loss: 0.9770 - val_acc: 0.5500\n",
            "Epoch 49/100\n",
            "44/44 [==============================] - 219s 5s/step - loss: 0.8112 - acc: 0.6965 - val_loss: 0.9367 - val_acc: 0.5562\n",
            "Epoch 50/100\n",
            "44/44 [==============================] - 217s 5s/step - loss: 0.8205 - acc: 0.6901 - val_loss: 0.9288 - val_acc: 0.5562\n",
            "Epoch 51/100\n",
            "44/44 [==============================] - 224s 5s/step - loss: 0.8053 - acc: 0.7043 - val_loss: 0.9526 - val_acc: 0.5500\n",
            "Epoch 52/100\n",
            "44/44 [==============================] - 221s 5s/step - loss: 0.8152 - acc: 0.6937 - val_loss: 0.9262 - val_acc: 0.5562\n",
            "Epoch 53/100\n",
            "44/44 [==============================] - 217s 5s/step - loss: 0.8060 - acc: 0.7029 - val_loss: 0.9383 - val_acc: 0.5562\n",
            "Epoch 54/100\n",
            "44/44 [==============================] - 214s 5s/step - loss: 0.8101 - acc: 0.6965 - val_loss: 0.9376 - val_acc: 0.5562\n",
            "Epoch 55/100\n",
            "44/44 [==============================] - 214s 5s/step - loss: 0.8096 - acc: 0.6972 - val_loss: 0.9333 - val_acc: 0.5562\n",
            "Epoch 56/100\n",
            "44/44 [==============================] - 219s 5s/step - loss: 0.8023 - acc: 0.7050 - val_loss: 0.9439 - val_acc: 0.5562\n",
            "Epoch 57/100\n",
            "44/44 [==============================] - 220s 5s/step - loss: 0.8118 - acc: 0.6974 - val_loss: 1.0604 - val_acc: 0.5500\n",
            "Epoch 58/100\n",
            "44/44 [==============================] - 218s 5s/step - loss: 0.8143 - acc: 0.6958 - val_loss: 0.9300 - val_acc: 0.5562\n",
            "Epoch 59/100\n",
            "44/44 [==============================] - 213s 5s/step - loss: 0.8109 - acc: 0.6958 - val_loss: 0.9427 - val_acc: 0.5562\n",
            "Epoch 60/100\n",
            "44/44 [==============================] - 213s 5s/step - loss: 0.8363 - acc: 0.6851 - val_loss: 0.9425 - val_acc: 0.5562\n",
            "Epoch 61/100\n",
            "44/44 [==============================] - 216s 5s/step - loss: 0.8299 - acc: 0.6908 - val_loss: 0.9428 - val_acc: 0.5562\n",
            "Epoch 62/100\n",
            "44/44 [==============================] - 212s 5s/step - loss: 0.8300 - acc: 0.6894 - val_loss: 0.9499 - val_acc: 0.5562\n",
            "Epoch 63/100\n",
            "44/44 [==============================] - 212s 5s/step - loss: 0.8493 - acc: 0.6951 - val_loss: 1.1879 - val_acc: 0.5312\n",
            "Epoch 64/100\n",
            "44/44 [==============================] - 216s 5s/step - loss: 0.8358 - acc: 0.6896 - val_loss: 0.9444 - val_acc: 0.5562\n",
            "Epoch 65/100\n",
            "44/44 [==============================] - 213s 5s/step - loss: 0.8444 - acc: 0.6866 - val_loss: 0.9520 - val_acc: 0.5562\n",
            "Epoch 66/100\n",
            "44/44 [==============================] - 216s 5s/step - loss: 0.8395 - acc: 0.6844 - val_loss: 0.9505 - val_acc: 0.5562\n",
            "Epoch 67/100\n",
            "44/44 [==============================] - 225s 5s/step - loss: 0.8301 - acc: 0.6894 - val_loss: 0.9546 - val_acc: 0.5562\n",
            "Epoch 68/100\n",
            "44/44 [==============================] - 224s 5s/step - loss: 0.8475 - acc: 0.6780 - val_loss: 0.9570 - val_acc: 0.5562\n",
            "Epoch 69/100\n",
            "44/44 [==============================] - 220s 5s/step - loss: 0.8402 - acc: 0.6830 - val_loss: 0.9608 - val_acc: 0.5562\n",
            "Epoch 70/100\n",
            "44/44 [==============================] - 223s 5s/step - loss: 0.8313 - acc: 0.6880 - val_loss: 0.9551 - val_acc: 0.5562\n",
            "Epoch 71/100\n",
            "44/44 [==============================] - 225s 5s/step - loss: 0.8404 - acc: 0.6825 - val_loss: 0.9506 - val_acc: 0.5562\n",
            "Epoch 72/100\n",
            "44/44 [==============================] - 223s 5s/step - loss: 0.8391 - acc: 0.6837 - val_loss: 0.9583 - val_acc: 0.5562\n",
            "Epoch 73/100\n",
            "44/44 [==============================] - 218s 5s/step - loss: 0.8432 - acc: 0.6795 - val_loss: 0.9486 - val_acc: 0.5562\n",
            "Epoch 74/100\n",
            "44/44 [==============================] - 221s 5s/step - loss: 0.8313 - acc: 0.6887 - val_loss: 0.9526 - val_acc: 0.5562\n",
            "Epoch 75/100\n",
            "44/44 [==============================] - 230s 5s/step - loss: 0.8448 - acc: 0.6802 - val_loss: 0.9584 - val_acc: 0.5562\n",
            "Epoch 76/100\n",
            "44/44 [==============================] - 226s 5s/step - loss: 0.8355 - acc: 0.6844 - val_loss: 0.9437 - val_acc: 0.5562\n",
            "Epoch 77/100\n",
            "44/44 [==============================] - 221s 5s/step - loss: 0.8311 - acc: 0.6887 - val_loss: 0.9560 - val_acc: 0.5562\n",
            "Epoch 78/100\n",
            "44/44 [==============================] - 224s 5s/step - loss: 0.8425 - acc: 0.6809 - val_loss: 0.9566 - val_acc: 0.5562\n",
            "Epoch 79/100\n",
            "44/44 [==============================] - 225s 5s/step - loss: 0.8293 - acc: 0.6901 - val_loss: 0.9553 - val_acc: 0.5562\n",
            "Epoch 80/100\n",
            "44/44 [==============================] - 220s 5s/step - loss: 0.8348 - acc: 0.6866 - val_loss: 0.9570 - val_acc: 0.5562\n",
            "Epoch 81/100\n",
            "44/44 [==============================] - 219s 5s/step - loss: 0.8348 - acc: 0.6851 - val_loss: 0.9551 - val_acc: 0.5562\n",
            "Epoch 82/100\n",
            "44/44 [==============================] - 228s 5s/step - loss: 0.8479 - acc: 0.6773 - val_loss: 0.9550 - val_acc: 0.5562\n",
            "Epoch 83/100\n",
            "44/44 [==============================] - 224s 5s/step - loss: 0.8411 - acc: 0.6823 - val_loss: 0.9558 - val_acc: 0.5562\n",
            "Epoch 84/100\n",
            "44/44 [==============================] - 227s 5s/step - loss: 0.8413 - acc: 0.6823 - val_loss: 0.9491 - val_acc: 0.5562\n",
            "Epoch 85/100\n",
            "44/44 [==============================] - 228s 5s/step - loss: 0.8400 - acc: 0.6823 - val_loss: 0.9447 - val_acc: 0.5562\n",
            "Epoch 86/100\n",
            "44/44 [==============================] - 225s 5s/step - loss: 0.8366 - acc: 0.6851 - val_loss: 0.9495 - val_acc: 0.5562\n",
            "Epoch 87/100\n",
            "44/44 [==============================] - 221s 5s/step - loss: 0.8426 - acc: 0.6802 - val_loss: 0.9526 - val_acc: 0.5562\n",
            "Epoch 88/100\n",
            "44/44 [==============================] - 217s 5s/step - loss: 0.8417 - acc: 0.6816 - val_loss: 0.9523 - val_acc: 0.5562\n",
            "Epoch 89/100\n",
            "44/44 [==============================] - 223s 5s/step - loss: 0.8389 - acc: 0.6837 - val_loss: 0.9600 - val_acc: 0.5562\n",
            "Epoch 90/100\n",
            "44/44 [==============================] - 220s 5s/step - loss: 0.8320 - acc: 0.6873 - val_loss: 0.9529 - val_acc: 0.5562\n",
            "Epoch 91/100\n",
            "24/44 [===============>..............] - ETA: 1:30 - loss: 0.8184 - acc: 0.6936"
          ]
        }
      ]
    },
    {
      "cell_type": "code",
      "metadata": {
        "id": "TIG-BmEQgWg7"
      },
      "source": [
        "from keras.models import save_model #run\n",
        "model = save_model(model,'modul3.h5')"
      ],
      "execution_count": null,
      "outputs": []
    },
    {
      "cell_type": "code",
      "metadata": {
        "id": "-A4ah9xzgWje"
      },
      "source": [
        "!ls"
      ],
      "execution_count": null,
      "outputs": []
    },
    {
      "cell_type": "code",
      "metadata": {
        "id": "Xd6wPPJggbNa"
      },
      "source": [
        "# TULIS CODE UNTUK PLOT EVALUASI MODEL DISINI\n",
        "plt.style.use(\"ggplot\") #run\n",
        "plt.figure()\n",
        "plt.plot(np.arange(0, 100), H.history[\"loss\"], label=\"train_loss\")\n",
        "plt.plot(np.arange(0, 100), H.history[\"val_loss\"], label=\"val_loss\")\n",
        "plt.title(\"Loss Plot\")\n",
        "plt.xlabel(\"Epoch #\")\n",
        "plt.ylabel(\"Loss\")\n",
        "plt.legend()\n",
        "plt.show()\n",
        "\n",
        "plt.style.use(\"ggplot\")\n",
        "plt.figure()\n",
        "plt.plot(np.arange(0, 100), H.history[\"acc\"], label=\"train_acc\")\n",
        "plt.plot(np.arange(0, 100), H.history[\"val_acc\"], label=\"val_acc\")\n",
        "plt.title(\"Accuracy Plot\")\n",
        "plt.xlabel(\"Epoch #\")\n",
        "plt.ylabel(\"Acc\")\n",
        "plt.legend()\n",
        "plt.show()"
      ],
      "execution_count": null,
      "outputs": []
    },
    {
      "cell_type": "code",
      "metadata": {
        "id": "_ijXHDn-gbSn"
      },
      "source": [
        "pred2 = model2.predict(x_val) #run\n",
        "labels2 = (pred2 > 0.5).astype(np.int)\n",
        "\n",
        "print(classification_report(y_val, labels2))"
      ],
      "execution_count": null,
      "outputs": []
    }
  ]
}