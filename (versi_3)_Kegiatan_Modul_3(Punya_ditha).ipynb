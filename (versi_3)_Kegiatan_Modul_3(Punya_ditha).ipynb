{
  "nbformat": 4,
  "nbformat_minor": 0,
  "metadata": {
    "colab": {
      "name": "(versi 3) Kegiatan Modul 3(Punya ditha).ipynb",
      "provenance": [],
      "collapsed_sections": [
        "UxLpoRM6i6SV"
      ],
      "include_colab_link": true
    },
    "kernelspec": {
      "name": "python3",
      "display_name": "Python 3"
    },
    "language_info": {
      "name": "python"
    },
    "accelerator": "GPU"
  },
  "cells": [
    {
      "cell_type": "markdown",
      "metadata": {
        "id": "view-in-github",
        "colab_type": "text"
      },
      "source": [
        "<a href=\"https://colab.research.google.com/github/annisapraditha/tugaspraktikum_ML3/blob/main/(versi_3)_Kegiatan_Modul_3(Punya_ditha).ipynb\" target=\"_parent\"><img src=\"https://colab.research.google.com/assets/colab-badge.svg\" alt=\"Open In Colab\"/></a>"
      ]
    },
    {
      "cell_type": "markdown",
      "metadata": {
        "id": "wQBa4hXoxDUd"
      },
      "source": [
        "# **Soal Praktikum Overfitting Handling #1**"
      ]
    },
    {
      "cell_type": "markdown",
      "metadata": {
        "id": "06V87X5rVRM2"
      },
      "source": [
        "## Kegiatan 1 **(Individu)** \n",
        "70 poin"
      ]
    },
    {
      "cell_type": "markdown",
      "metadata": {
        "id": "u6kTqqtESNnc"
      },
      "source": [
        "**Peraturan :**\n",
        "* Tidak boleh ada error dalam kode program\n",
        "* Dalam modul ini tidak diperbolehkan menggunakan teknik transfer learning dari pretrain model baik yang telah dibangun sendiri atau anda dapatkan dari sumber lain (tensorflow, keras, dan sebagainya)\n",
        "* Perhatikan langkah demi langkah yang diperintahkan dalam kegiatan ini"
      ]
    },
    {
      "cell_type": "markdown",
      "metadata": {
        "id": "-muSoJjnFt8y"
      },
      "source": [
        "### Pengenalan tugas kegiatan 1"
      ]
    },
    {
      "cell_type": "markdown",
      "metadata": {
        "id": "LxFmKc3D1apX"
      },
      "source": [
        "Dataset yang akan anda gunakan dalam kegiatan ini adalah dataset [Rock Paper Scissors](https://www.kaggle.com/drgfreeman/rockpaperscissors).  Demi mempermudah anda dalam mengerjakan modul ini maka akan sangat disarankan untuk menggunakan [google colab](https://colab.research.google.com/). Anda dapat menggunakan google colab untuk mendownload langsung dataset dari kaggle dan menyimpannya dalam google drive anda. Untuk kenyamanan dan ruang kerja yang besar akan lebih baik anda menggunakan email kampus untuk menyimpan dataset yang anda gunakan. Perhatikan langkah berikut untuk melakukan setting environment anda."
      ]
    },
    {
      "cell_type": "markdown",
      "metadata": {
        "id": "fLoYIWSbKgko"
      },
      "source": [
        "### 1. Initial process\n",
        "\n"
      ]
    },
    {
      "cell_type": "markdown",
      "metadata": {
        "id": "8yzN1yOK1V-K"
      },
      "source": [
        "* Mount drive terlebih dahulu\n",
        "\n",
        "* Untuk dapat mengakses dataset ini anda diharuskan memiliki akun kaggle. Jika belum memilikinya buat satu akun pribadi.\n",
        "\n",
        "* Download kaggle API.json kemudian upload dalam google drive anda.\n",
        "\n",
        "* Ubah lokasi direktori kerja anda ke direktori dimana anda menyimpan kaggle.json\n",
        "\n",
        "* Buka laman dataset kemudian Copy API Command.\n",
        "\n",
        "* Jalankan perintah untuk mendownload dataset dari kaggle menggunakan google colab.\n",
        "\n",
        "* Gunakan tutorial berikut untuk lebih jelasnya : [Fetch Kaggle Dataset into Google Colab](https://medium.com/analytics-vidhya/how-to-fetch-kaggle-datasets-into-google-colab-ea682569851a)\n",
        "\n",
        "* Untuk selanjutnya pahami code dibawah dengan baik."
      ]
    },
    {
      "cell_type": "code",
      "metadata": {
        "id": "_iP7_H-5ubtG"
      },
      "source": [
        "from google.colab import drive\n",
        "drive.mount('/content/drive')"
      ],
      "execution_count": null,
      "outputs": []
    },
    {
      "cell_type": "code",
      "metadata": {
        "id": "fWkAcnefSPKI"
      },
      "source": [
        "# Define kaggle json path\n",
        "# Sesuaikan dengan path anda\n",
        "import os\n",
        "os.environ['KAGGLE_CONFIG_DIR'] = \"/content/drive/My Drive/RESEARCH CENTER/DATASETS\""
      ],
      "execution_count": null,
      "outputs": []
    },
    {
      "cell_type": "code",
      "metadata": {
        "id": "IPUJ-XM5S4Th",
        "colab": {
          "base_uri": "https://localhost:8080/"
        },
        "outputId": "0f722913-3434-4116-a469-2ba5176e3ab4"
      },
      "source": [
        "# Ubah lokasi direktori kerja\n",
        "# Sesuaikan dengan path anda\n",
        "%cd /content/drive/My Drive/RESEARCH CENTER/DATASETS/"
      ],
      "execution_count": null,
      "outputs": [
        {
          "output_type": "stream",
          "name": "stdout",
          "text": [
            "/content/drive/My Drive/RESEARCH CENTER/DATASETS\n"
          ]
        }
      ]
    },
    {
      "cell_type": "code",
      "metadata": {
        "id": "69Bbmd-TCGhh",
        "colab": {
          "resources": {
            "http://localhost:8080/nbextensions/google.colab/files.js": {
              "data": "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",
              "ok": true,
              "headers": [
                [
                  "content-type",
                  "application/javascript"
                ]
              ],
              "status": 200,
              "status_text": "OK"
            }
          },
          "base_uri": "https://localhost:8080/",
          "height": 93
        },
        "outputId": "a0481b29-8f58-42ac-da45-130a6c43cf37"
      },
      "source": [
        "# Cek apakah api sudah terbaca oleh sistem\n",
        "from google.colab import files\n",
        "!ls  \n",
        "files.upload()"
      ],
      "execution_count": null,
      "outputs": [
        {
          "output_type": "display_data",
          "data": {
            "text/html": [
              "\n",
              "     <input type=\"file\" id=\"files-5a466430-91ae-4b2b-9bc1-48775bc5e157\" name=\"files[]\" multiple disabled\n",
              "        style=\"border:none\" />\n",
              "     <output id=\"result-5a466430-91ae-4b2b-9bc1-48775bc5e157\">\n",
              "      Upload widget is only available when the cell has been executed in the\n",
              "      current browser session. Please rerun this cell to enable.\n",
              "      </output>\n",
              "      <script src=\"/nbextensions/google.colab/files.js\"></script> "
            ],
            "text/plain": [
              "<IPython.core.display.HTML object>"
            ]
          },
          "metadata": {}
        },
        {
          "output_type": "stream",
          "name": "stdout",
          "text": [
            "Saving kaggle.json to kaggle.json\n"
          ]
        },
        {
          "output_type": "execute_result",
          "data": {
            "text/plain": [
              "{'kaggle.json': b'{\"username\":\"annisapraditha8\",\"key\":\"c73b0a51334914c163d2ce52d2743747\"}'}"
            ]
          },
          "metadata": {},
          "execution_count": 9
        }
      ]
    },
    {
      "cell_type": "markdown",
      "metadata": {
        "id": "7wGGZC8vTX0A"
      },
      "source": [
        "* Paste API Command dari kaggle dataset yang telah anda copy sebelumnya dan tambahkan tanda seru didepannya.\n",
        "* Pastikan anda menggunakan akun google dari kampus untuk mendapatkan storage penyimpanan unlimited.\n",
        "* Lebih disarankan untuk menggunakan google colab karena proses download data lebih cepat dan stabil daripada download manual dan menggunakan jupyter notebook."
      ]
    },
    {
      "cell_type": "code",
      "metadata": {
        "id": "emSTR53KTGW9",
        "colab": {
          "base_uri": "https://localhost:8080/"
        },
        "outputId": "be157d90-5601-4f26-dea1-e9ff602d7c05"
      },
      "source": [
        "!kaggle datasets download -d drgfreeman/rockpaperscissors"
      ],
      "execution_count": null,
      "outputs": [
        {
          "output_type": "stream",
          "name": "stdout",
          "text": [
            "Downloading rockpaperscissors.zip to /content/drive/My Drive/RESEARCH CENTER/DATASETS\n",
            " 97% 296M/306M [00:03<00:00, 99.5MB/s]\n",
            "100% 306M/306M [00:03<00:00, 97.7MB/s]\n"
          ]
        }
      ]
    },
    {
      "cell_type": "code",
      "metadata": {
        "id": "JcpagHVWbdDY",
        "colab": {
          "base_uri": "https://localhost:8080/"
        },
        "outputId": "20a79a33-76cc-4b18-b933-bedf5e6c7573"
      },
      "source": [
        "# Cek isi direktori kerja dan memastikan dataset telah berhasil didownload.\n",
        "!ls"
      ],
      "execution_count": null,
      "outputs": [
        {
          "output_type": "stream",
          "name": "stdout",
          "text": [
            "kaggle.json  rockpaperscissors.zip\n"
          ]
        }
      ]
    },
    {
      "cell_type": "code",
      "metadata": {
        "id": "3HDyNsR3bam4"
      },
      "source": [
        "# Ekstrak file dataset dan hapus file zip dataset agar tidak memakan banyak tempat.\n",
        "!unzip \\*.zip &> /dev/null && rm *.zip"
      ],
      "execution_count": null,
      "outputs": []
    },
    {
      "cell_type": "code",
      "metadata": {
        "id": "Vgw_k1zihmkK",
        "colab": {
          "base_uri": "https://localhost:8080/"
        },
        "outputId": "4b8d85f8-e934-4204-bc0a-14d845f9d392"
      },
      "source": [
        "# Cek isi direktori kerja untuk memastikan dataset telah berhasil diekstrak.\n",
        "!ls"
      ],
      "execution_count": null,
      "outputs": [
        {
          "output_type": "stream",
          "name": "stdout",
          "text": [
            "kaggle.json  paper  README_rpc-cv-images.txt  rock  rps-cv-images  scissors\n"
          ]
        }
      ]
    },
    {
      "cell_type": "markdown",
      "metadata": {
        "id": "dPVmxstVUvyL"
      },
      "source": [
        "Buat folder baru bernama `dataset` dan memindahkan folder `paper, rock, scissors` kedalam folder `dataset`. Selanjutnya, lakukan splitting dataset menjadi 3 bagian `train, test, val` dan simpan ketiga folder tersebut diluar folder `dataset`. Data `train dan val` akan digunakan ketika anda melakukan training model. Dan data `test` akan anda gunakan ketika anda melakukan prediksi unseen data menggunakan model yang telah anda latih.\n",
        "\n",
        "*Ingat google colab juga menerima command berbasis linux.*"
      ]
    },
    {
      "cell_type": "code",
      "metadata": {
        "colab": {
          "base_uri": "https://localhost:8080/"
        },
        "id": "nOL0xZ4IETog",
        "outputId": "751522a9-d1b4-4e08-a711-1b82f4df0afe"
      },
      "source": [
        "# TULIS CODE ANDA DISINI\n",
        "%cd /content/drive/My Drive/RESEARCH CENTER\n",
        "!ls"
      ],
      "execution_count": null,
      "outputs": [
        {
          "output_type": "stream",
          "name": "stdout",
          "text": [
            "/content/drive/My Drive/RESEARCH CENTER\n",
            "DATASETS\n"
          ]
        }
      ]
    },
    {
      "cell_type": "markdown",
      "metadata": {
        "id": "UxLpoRM6i6SV"
      },
      "source": [
        "### 2. Data Preprocessing"
      ]
    },
    {
      "cell_type": "markdown",
      "metadata": {
        "id": "ZJHBci_m0vKy"
      },
      "source": [
        "Kita anggap dataset yang kita miliki merupakan dataset yang telah bersih dan siap digunakan untuk proses training model. Namun agar data yang kita miliki dapat diproses oleh model maka kita perlu melakukan sedikit proses augmentasi sederhana. \n",
        "\n",
        "**NOTE :** Penjelasan augmentasi secara detail akan dibahas pada modul selanjutnya. Disini kita akan mengunakan augmentasi sederhana saja seperti resize, flip dan rotation."
      ]
    },
    {
      "cell_type": "markdown",
      "metadata": {
        "id": "fxkE0duhmOt4"
      },
      "source": [
        "Lakukan proses agumentasi sederhana pada dataset anda menggunakan `ImageDataGenerator` dengan ketentuan melakukan proses seperti berikut :\n",
        "\n",
        "* Resize\n",
        "* Rescaling\n",
        "* Color Mode\n",
        "* Shuffle\n",
        "* Class Mode\n",
        "\n",
        "Terapkan semua proses diatas pada data `train, test dan validation`."
      ]
    },
    {
      "cell_type": "code",
      "metadata": {
        "id": "S2dYylWEJGSW"
      },
      "source": [
        "# TULIS CODE ANDA DISINI\n",
        "os.mkdir(\"DATASETS/train\")\n",
        "os.mkdir(\"DATASETS/train/rock\")\n",
        "os.mkdir(\"DATASETS/train/paper\")\n",
        "os.mkdir(\"DATASETS/train/scissors\")\n",
        "os.mkdir(\"DATASETS/test\")\n",
        "os.mkdir(\"DATASETS/test/rock\")\n",
        "os.mkdir(\"DATASETS/test/paper\")\n",
        "os.mkdir(\"DATASETS/test/scissors\")\n",
        "os.mkdir(\"DATASETS/validation\")\n",
        "os.mkdir(\"DATASETS/validation/rock\")\n",
        "os.mkdir(\"DATASETS/validation/paper\")\n",
        "os.mkdir(\"DATASETS/validation/scissors\")"
      ],
      "execution_count": null,
      "outputs": []
    },
    {
      "cell_type": "code",
      "metadata": {
        "id": "BR1HNA-EJGVH"
      },
      "source": [
        "# TULIS CODE ANDA DISINI\n",
        "import shutil, os, glob\n",
        "\n",
        "base_dataset = \"DATASETS\"\n",
        "class_dir = ['rock','paper','scissors']\n",
        "for class_item in class_dir:\n",
        "    X = []\n",
        "    Y = []\n",
        "    locate = class_item\n",
        "    cur_dir = base_dataset+\"/\"+class_item\n",
        "    dataset = os.listdir(cur_dir)\n",
        "    train_len_func = int(80/100*len(dataset))\n",
        "    \n",
        "    srcDir = base_dataset + \"/\" + locate\n",
        "    dstDir_train = 'DATASETS/train/' + locate.lower()\n",
        "    dstDir_val = 'DATASETS/validation/' + locate.lower()\n",
        "    for item in dataset:\n",
        "        if len(X) < train_len_func:\n",
        "            X.append(item)\n",
        "            shutil.move(srcDir + '/' + item, dstDir_train + '/' + item);\n",
        "        else:\n",
        "            Y.append(item)\n",
        "            shutil.move(srcDir + '/' + item, dstDir_val + '/' + item);\n",
        "    \n",
        "\n"
      ],
      "execution_count": null,
      "outputs": []
    },
    {
      "cell_type": "code",
      "metadata": {
        "id": "6_brwPYcJGZe"
      },
      "source": [
        "# TULIS CODE ANDA DISINI\n",
        "import shutil, os, glob\n",
        "\n",
        "base_dataset = \"DATASETS/train\"\n",
        "class_dir = ['rock','paper','scissors']\n",
        "for class_item in class_dir:\n",
        "    X = []\n",
        "    Y = []\n",
        "    locate = class_item\n",
        "    cur_dir = base_dataset+\"/\"+class_item\n",
        "    dataset = os.listdir(cur_dir)\n",
        "    train_len_func = int(80/100*len(dataset))\n",
        "    \n",
        "    srcDir = base_dataset + \"/\" + locate\n",
        "    dstDir_train = 'DATASETS/train/' + locate.lower()\n",
        "    dstDir_val = 'DATASETS/test/' + locate.lower()\n",
        "    for item in dataset:\n",
        "        if len(X) < train_len_func:\n",
        "            X.append(item)\n",
        "            shutil.move(srcDir + '/' + item, dstDir_train + '/' + item);\n",
        "        else:\n",
        "            Y.append(item)\n",
        "            shutil.move(srcDir + '/' + item, dstDir_val + '/' + item);\n",
        "    \n",
        "\n"
      ],
      "execution_count": null,
      "outputs": []
    },
    {
      "cell_type": "code",
      "metadata": {
        "colab": {
          "base_uri": "https://localhost:8080/"
        },
        "id": "DH2NsTnwJGb9",
        "outputId": "8eec70e6-bb00-45d6-da77-1fcc9068f02b"
      },
      "source": [
        "%cd /content/drive/My Drive/RESEARCH CENTER/DATASETS"
      ],
      "execution_count": null,
      "outputs": [
        {
          "output_type": "stream",
          "name": "stdout",
          "text": [
            "/content/drive/My Drive/RESEARCH CENTER/DATASETS\n"
          ]
        }
      ]
    },
    {
      "cell_type": "code",
      "metadata": {
        "colab": {
          "base_uri": "https://localhost:8080/"
        },
        "id": "cqKwixIWJGez",
        "outputId": "b7f78b6a-ce96-4c1f-dc7f-1c82c6580b3d"
      },
      "source": [
        "!ls"
      ],
      "execution_count": null,
      "outputs": [
        {
          "output_type": "stream",
          "name": "stdout",
          "text": [
            "kaggle.json  README_rpc-cv-images.txt  rps-cv-images  test   validation\n",
            "paper\t     rock\t\t       scissors       train\n"
          ]
        }
      ]
    },
    {
      "cell_type": "code",
      "metadata": {
        "id": "71AjIvXfJGhM"
      },
      "source": [
        "import os\n",
        "\n",
        "train_dir = 'train'\n",
        "validation_dir = 'validation'\n",
        "test_dir = 'test'\n",
        "\n",
        "train_rock_dir = os.path.join(train_dir, 'rock')\n",
        "train_paper_dir = os.path.join(train_dir, 'paper')\n",
        "train_scissors_dir = os.path.join(train_dir, 'scissors')\n",
        "\n",
        "validation_rock_dir = os.path.join(validation_dir, 'rock')\n",
        "validation_paper_dir = os.path.join(validation_dir, 'paper')\n",
        "validation_scissors_dir = os.path.join(validation_dir, 'scissors')\n",
        "\n",
        "test_rock_dir = os.path.join(test_dir, 'rock')\n",
        "test_paper_dir = os.path.join(test_dir, 'paper')\n",
        "test_scissors_dir = os.path.join(test_dir, 'scissors')\n",
        "\n",
        "#penamaan variabel data rok paper dll "
      ],
      "execution_count": null,
      "outputs": []
    },
    {
      "cell_type": "code",
      "metadata": {
        "colab": {
          "base_uri": "https://localhost:8080/"
        },
        "id": "t0bdseQrJGjJ",
        "outputId": "b88c4d02-1d57-4e67-c53c-c92fba635c84"
      },
      "source": [
        "print('total training rock images:', len(os.listdir(train_rock_dir)))\n",
        "print('total training paper images:', len(os.listdir(train_paper_dir)))\n",
        "print('total training scissors images:', len(os.listdir(train_scissors_dir)))\n",
        "\n",
        "print('\\ntotal validation rock images:', len(os.listdir(validation_rock_dir)))\n",
        "print('total validation paper images:', len(os.listdir(validation_paper_dir)))\n",
        "print('total validation scissors images:', len(os.listdir(validation_scissors_dir)))\n",
        "\n",
        "print('\\ntotal test rock images:', len(os.listdir(test_rock_dir)))\n",
        "print('total test paper images:', len(os.listdir(test_paper_dir)))\n",
        "print('total test scissors images:', len(os.listdir(test_scissors_dir)))"
      ],
      "execution_count": null,
      "outputs": [
        {
          "output_type": "stream",
          "name": "stdout",
          "text": [
            "total training rock images: 464\n",
            "total training paper images: 455\n",
            "total training scissors images: 480\n",
            "\n",
            "total validation rock images: 146\n",
            "total validation paper images: 143\n",
            "total validation scissors images: 150\n",
            "\n",
            "total test rock images: 116\n",
            "total test paper images: 114\n",
            "total test scissors images: 120\n"
          ]
        }
      ]
    },
    {
      "cell_type": "code",
      "metadata": {
        "id": "d59IWnMhGPmf"
      },
      "source": [
        "# Definisikan path untuk data train test dan validation\n",
        "# sesuaikan dengan path anda\n",
        "train_path = \"train\"\n",
        "test_path  = \"test\"\n",
        "val_path   = \"validation\""
      ],
      "execution_count": null,
      "outputs": []
    },
    {
      "cell_type": "code",
      "metadata": {
        "id": "c8yJCEutGPpH"
      },
      "source": [
        "# TULIS KODE ANDA DISINI\n",
        "from keras.preprocessing.image import ImageDataGenerator\n",
        "\n",
        "train_datagen = ImageDataGenerator(rescale=1./255,\n",
        "                                   shear_range=0.2,\n",
        "                                   zoom_range=0.2,\n",
        "                                   horizontal_flip=True)\n",
        "val_datagen = ImageDataGenerator(rescale=1./255)"
      ],
      "execution_count": null,
      "outputs": []
    },
    {
      "cell_type": "code",
      "metadata": {
        "colab": {
          "base_uri": "https://localhost:8080/"
        },
        "id": "qny6PEz3GPwm",
        "outputId": "928f60d9-80f6-4624-c873-789e9cc34e24"
      },
      "source": [
        "training_set = train_datagen.flow_from_directory(  train_path,\n",
        "                                       target_size=(128, 128),\n",
        "                                             color_mode=\"rgb\",\n",
        "                                                batch_size=32,\n",
        "                                     class_mode='categorical',\n",
        "                                               shuffle = True)"
      ],
      "execution_count": null,
      "outputs": [
        {
          "output_type": "stream",
          "name": "stdout",
          "text": [
            "Found 1399 images belonging to 3 classes.\n"
          ]
        }
      ]
    },
    {
      "cell_type": "code",
      "metadata": {
        "colab": {
          "base_uri": "https://localhost:8080/"
        },
        "id": "PPTl7izPGPys",
        "outputId": "c1ac60f5-6825-48f7-a8be-1983b9b9efab"
      },
      "source": [
        "validation_set = val_datagen.flow_from_directory(    val_path,\n",
        "                                       target_size=(128, 128),\n",
        "                                             color_mode=\"rgb\",\n",
        "                                                batch_size=32,\n",
        "                                     class_mode='categorical',\n",
        "                                               shuffle = False)"
      ],
      "execution_count": null,
      "outputs": [
        {
          "output_type": "stream",
          "name": "stdout",
          "text": [
            "Found 439 images belonging to 3 classes.\n"
          ]
        }
      ]
    },
    {
      "cell_type": "code",
      "metadata": {
        "colab": {
          "base_uri": "https://localhost:8080/"
        },
        "id": "st9j-F0WGVw-",
        "outputId": "05edefdd-95e2-4189-ba21-bc11faa8426d"
      },
      "source": [
        "test_set = val_datagen.flow_from_directory(         test_path,\n",
        "                                       target_size=(128, 128),\n",
        "                                             color_mode=\"rgb\",\n",
        "                                                batch_size=32,\n",
        "                                     class_mode='categorical',\n",
        "                                               shuffle = False)"
      ],
      "execution_count": null,
      "outputs": [
        {
          "output_type": "stream",
          "name": "stdout",
          "text": [
            "Found 350 images belonging to 3 classes.\n"
          ]
        }
      ]
    },
    {
      "cell_type": "markdown",
      "metadata": {
        "id": "iNr_kRbxyZYT"
      },
      "source": [
        "### 3. Definisikan Model CNN"
      ]
    },
    {
      "cell_type": "markdown",
      "metadata": {
        "id": "5I939-GX0qsZ"
      },
      "source": [
        "Bangun model CNN dan lakukan evaluasi sesuai kriteria **WAJIB** berikut:\n",
        "\n",
        "* Menerapkan proses Convolution \n",
        "* Menerapkan proses Pooling\n",
        "* Menerapkan Dropout\n",
        "* Menerpakan BatchNormalization\n",
        "* Evaluasi model menggunakan grafik loss dan accuracy\n",
        "* Evaluasi menggunakan classification report\n",
        "* Evaluasi menggunakan confusion matrix\n",
        "* Pastikan nilai akurasi model > 80%\n",
        "* Mendefinisikan minimal 100 epoch untuk masing-masing model\n",
        "* Melakukan prediksi minimal 15 gambar acak yang dapat mewakili seluruh kelas\n",
        "* Menampilkan input gambar yang di prediksi beserta label hasil prediksi, nilai akurasi prediksi, dan lama waktu prediksi dalam sebuah plot. (15 gambar ditampilkan dalam 1 plot)\n",
        "* Save model dalam file `json` dan simpan bobot dalam file `HDF5`\n",
        "* Pastikan model anda dapat memprediksi unseen data dengan benar."
      ]
    },
    {
      "cell_type": "code",
      "metadata": {
        "id": "_BwlkwcO2fpf"
      },
      "source": [
        "# IMPORT SEMUA PAKET YANG ANDA PERLUKAN UNTUK MENDEFINISIKAN MODEL DISINI\n",
        "import tensorflow as tf\n",
        "from tensorflow.keras import backend\n",
        "from tensorflow import keras\n",
        "from tensorflow.keras.models import Sequential\n",
        "from tensorflow.keras.layers import InputLayer, Activation, Dense, Conv2D, MaxPool2D, Dropout, Flatten, BatchNormalization\n",
        "from tensorflow.keras.optimizers import Adam, SGD\n",
        "from tensorflow.keras.callbacks import EarlyStopping\n",
        "import numpy as np\n",
        "import pandas as pd\n",
        "import matplotlib.pyplot as plt"
      ],
      "execution_count": null,
      "outputs": []
    },
    {
      "cell_type": "code",
      "metadata": {
        "id": "T8YWY7CXGefx"
      },
      "source": [
        "# DEFINISIKAN MODEL ANDA DISINI\n",
        "model = Sequential()\n",
        "\n",
        "model.add(InputLayer(input_shape=[128,128,3]))\n",
        "\n",
        "model.add(Conv2D(filters=16, kernel_size=3, strides=1, padding='same', activation='relu'))\n",
        "model.add(MaxPool2D(pool_size=2, padding='same'))\n",
        "\n",
        "model.add(Conv2D(filters=32, kernel_size=3, strides=1, padding='same', activation='relu'))\n",
        "model.add(BatchNormalization())\n",
        "model.add(MaxPool2D(pool_size=2, padding='same'))\n",
        "\n",
        "model.add(Conv2D(filters=64, kernel_size=3, strides=1, padding='same', activation='relu'))\n",
        "model.add(MaxPool2D(pool_size=2, padding='same'))\n",
        "\n",
        "model.add(Conv2D(filters=128, kernel_size=3, strides=1, padding='same', activation='relu'))\n",
        "model.add(BatchNormalization())\n",
        "model.add(MaxPool2D(pool_size=2, padding='same'))\n",
        "\n",
        "model.add(Conv2D(filters=256, kernel_size=3, strides=1, padding='same', activation='relu'))\n",
        "model.add(MaxPool2D(pool_size=2, padding='same'))\n",
        "\n",
        "model.add(Conv2D(filters=512, kernel_size=3, strides=1, padding='same', activation='relu'))\n",
        "model.add(BatchNormalization())\n",
        "model.add(MaxPool2D(pool_size=2, padding='same'))\n",
        "\n",
        "model.add(Conv2D(filters=64, kernel_size=3, strides=1, padding='same', activation='relu'))\n",
        "model.add(MaxPool2D(pool_size=2, padding='same'))\n",
        "\n",
        "model.add(Conv2D(filters=32, kernel_size=3, strides=1, padding='same', activation='relu'))\n",
        "model.add(BatchNormalization())\n",
        "model.add(MaxPool2D(pool_size=2, padding='same'))\n",
        "\n",
        "model.add(Conv2D(filters=16, kernel_size=3, strides=1, padding='same', activation='relu'))\n",
        "model.add(MaxPool2D(pool_size=2, padding='same'))\n",
        "\n",
        "model.add(Conv2D(filters=3, kernel_size=3, strides=1, padding='same', activation='relu'))\n",
        "model.add(MaxPool2D(pool_size=2, padding='same'))\n",
        "model.add(Dropout(0.25))\n",
        "\n",
        "model.add(Flatten())\n",
        "\n",
        "# Fully Connected Layer\n",
        "model.add(Dense(128, activation='relu'))\n",
        "model.add(Dense(3, activation='softmax'))"
      ],
      "execution_count": null,
      "outputs": []
    },
    {
      "cell_type": "code",
      "metadata": {
        "colab": {
          "base_uri": "https://localhost:8080/"
        },
        "id": "vRCHBAJBGeiX",
        "outputId": "514dfcb6-40c6-4047-b2ef-2df1ea1c6472"
      },
      "source": [
        "# TULIS CODE UNTUK MENAMPILKAN SUMMARY DARI ARSITEKTUR MODEL ANDA DISINI\n",
        "print(model.summary())"
      ],
      "execution_count": null,
      "outputs": [
        {
          "output_type": "stream",
          "name": "stdout",
          "text": [
            "Model: \"sequential\"\n",
            "_________________________________________________________________\n",
            "Layer (type)                 Output Shape              Param #   \n",
            "=================================================================\n",
            "conv2d (Conv2D)              (None, 128, 128, 16)      448       \n",
            "_________________________________________________________________\n",
            "max_pooling2d (MaxPooling2D) (None, 64, 64, 16)        0         \n",
            "_________________________________________________________________\n",
            "conv2d_1 (Conv2D)            (None, 64, 64, 32)        4640      \n",
            "_________________________________________________________________\n",
            "batch_normalization (BatchNo (None, 64, 64, 32)        128       \n",
            "_________________________________________________________________\n",
            "max_pooling2d_1 (MaxPooling2 (None, 32, 32, 32)        0         \n",
            "_________________________________________________________________\n",
            "conv2d_2 (Conv2D)            (None, 32, 32, 64)        18496     \n",
            "_________________________________________________________________\n",
            "max_pooling2d_2 (MaxPooling2 (None, 16, 16, 64)        0         \n",
            "_________________________________________________________________\n",
            "conv2d_3 (Conv2D)            (None, 16, 16, 128)       73856     \n",
            "_________________________________________________________________\n",
            "batch_normalization_1 (Batch (None, 16, 16, 128)       512       \n",
            "_________________________________________________________________\n",
            "max_pooling2d_3 (MaxPooling2 (None, 8, 8, 128)         0         \n",
            "_________________________________________________________________\n",
            "conv2d_4 (Conv2D)            (None, 8, 8, 256)         295168    \n",
            "_________________________________________________________________\n",
            "max_pooling2d_4 (MaxPooling2 (None, 4, 4, 256)         0         \n",
            "_________________________________________________________________\n",
            "conv2d_5 (Conv2D)            (None, 4, 4, 512)         1180160   \n",
            "_________________________________________________________________\n",
            "batch_normalization_2 (Batch (None, 4, 4, 512)         2048      \n",
            "_________________________________________________________________\n",
            "max_pooling2d_5 (MaxPooling2 (None, 2, 2, 512)         0         \n",
            "_________________________________________________________________\n",
            "conv2d_6 (Conv2D)            (None, 2, 2, 64)          294976    \n",
            "_________________________________________________________________\n",
            "max_pooling2d_6 (MaxPooling2 (None, 1, 1, 64)          0         \n",
            "_________________________________________________________________\n",
            "conv2d_7 (Conv2D)            (None, 1, 1, 32)          18464     \n",
            "_________________________________________________________________\n",
            "batch_normalization_3 (Batch (None, 1, 1, 32)          128       \n",
            "_________________________________________________________________\n",
            "max_pooling2d_7 (MaxPooling2 (None, 1, 1, 32)          0         \n",
            "_________________________________________________________________\n",
            "conv2d_8 (Conv2D)            (None, 1, 1, 16)          4624      \n",
            "_________________________________________________________________\n",
            "max_pooling2d_8 (MaxPooling2 (None, 1, 1, 16)          0         \n",
            "_________________________________________________________________\n",
            "conv2d_9 (Conv2D)            (None, 1, 1, 3)           435       \n",
            "_________________________________________________________________\n",
            "max_pooling2d_9 (MaxPooling2 (None, 1, 1, 3)           0         \n",
            "_________________________________________________________________\n",
            "dropout (Dropout)            (None, 1, 1, 3)           0         \n",
            "_________________________________________________________________\n",
            "flatten (Flatten)            (None, 3)                 0         \n",
            "_________________________________________________________________\n",
            "dense (Dense)                (None, 128)               512       \n",
            "_________________________________________________________________\n",
            "dense_1 (Dense)              (None, 3)                 387       \n",
            "=================================================================\n",
            "Total params: 1,894,982\n",
            "Trainable params: 1,893,574\n",
            "Non-trainable params: 1,408\n",
            "_________________________________________________________________\n",
            "None\n"
          ]
        }
      ]
    },
    {
      "cell_type": "code",
      "metadata": {
        "colab": {
          "base_uri": "https://localhost:8080/"
        },
        "id": "YnrQLnL9Gek3",
        "outputId": "2a072b18-61b2-4c5e-ff14-3ec77bf90145"
      },
      "source": [
        "# TULIS CODE UNTUK DEFINISI LEARNING RATE DISINI \n",
        "from tensorflow.keras.optimizers import Adam\n",
        "\n",
        "model.compile(optimizer=Adam(lr=0.01), \n",
        "              loss='categorical_crossentropy', \n",
        "              metrics=['acc'])"
      ],
      "execution_count": null,
      "outputs": [
        {
          "output_type": "stream",
          "name": "stderr",
          "text": [
            "/usr/local/lib/python3.7/dist-packages/keras/optimizer_v2/optimizer_v2.py:356: UserWarning: The `lr` argument is deprecated, use `learning_rate` instead.\n",
            "  \"The `lr` argument is deprecated, use `learning_rate` instead.\")\n"
          ]
        }
      ]
    },
    {
      "cell_type": "code",
      "metadata": {
        "colab": {
          "base_uri": "https://localhost:8080/"
        },
        "id": "Ys88kE4OGenI",
        "outputId": "a37bc3a8-37d8-489a-f142-9e059a991649"
      },
      "source": [
        "# TULIS CODE UNTUK TRAINING DISINI\n",
        "import time\n",
        "\n",
        "start = time.time()\n",
        "H = model.fit_generator(\n",
        "        training_set,\n",
        "        steps_per_epoch=44,\n",
        "        epochs=100,\n",
        "        validation_data=validation_set,\n",
        "        validation_steps=5)"
      ],
      "execution_count": null,
      "outputs": [
        {
          "output_type": "stream",
          "name": "stderr",
          "text": [
            "/usr/local/lib/python3.7/dist-packages/keras/engine/training.py:1972: UserWarning: `Model.fit_generator` is deprecated and will be removed in a future version. Please use `Model.fit`, which supports generators.\n",
            "  warnings.warn('`Model.fit_generator` is deprecated and '\n"
          ]
        },
        {
          "output_type": "stream",
          "name": "stdout",
          "text": [
            "Epoch 1/100\n",
            "44/44 [==============================] - 44s 298ms/step - loss: 0.7260 - acc: 0.5897 - val_loss: 12.3504 - val_acc: 0.0000e+00\n",
            "Epoch 2/100\n",
            "44/44 [==============================] - 13s 288ms/step - loss: 0.5990 - acc: 0.6519 - val_loss: 17.5540 - val_acc: 0.0000e+00\n",
            "Epoch 3/100\n",
            "44/44 [==============================] - 13s 285ms/step - loss: 0.5267 - acc: 0.7277 - val_loss: 24.6771 - val_acc: 0.0000e+00\n",
            "Epoch 4/100\n",
            "44/44 [==============================] - 13s 287ms/step - loss: 0.4218 - acc: 0.8485 - val_loss: 16.5134 - val_acc: 0.0188\n",
            "Epoch 5/100\n",
            "44/44 [==============================] - 13s 287ms/step - loss: 0.3872 - acc: 0.8663 - val_loss: 8.6102 - val_acc: 0.0750\n",
            "Epoch 6/100\n",
            "44/44 [==============================] - 13s 289ms/step - loss: 0.3692 - acc: 0.8806 - val_loss: 7.7185 - val_acc: 0.0750\n",
            "Epoch 7/100\n",
            "44/44 [==============================] - 13s 281ms/step - loss: 0.2692 - acc: 0.9092 - val_loss: 29.4068 - val_acc: 0.0000e+00\n",
            "Epoch 8/100\n",
            "44/44 [==============================] - 13s 287ms/step - loss: 0.2107 - acc: 0.9335 - val_loss: 1.6486 - val_acc: 0.5437\n",
            "Epoch 9/100\n",
            "44/44 [==============================] - 13s 295ms/step - loss: 0.2399 - acc: 0.9235 - val_loss: 0.5053 - val_acc: 0.9187\n",
            "Epoch 10/100\n",
            "44/44 [==============================] - 13s 292ms/step - loss: 0.2371 - acc: 0.9228 - val_loss: 0.2198 - val_acc: 0.9000\n",
            "Epoch 11/100\n",
            "44/44 [==============================] - 12s 276ms/step - loss: 0.3272 - acc: 0.9078 - val_loss: 5.6009 - val_acc: 0.1375\n",
            "Epoch 12/100\n",
            "44/44 [==============================] - 12s 277ms/step - loss: 0.2314 - acc: 0.9385 - val_loss: 0.4291 - val_acc: 0.9438\n",
            "Epoch 13/100\n",
            "44/44 [==============================] - 12s 281ms/step - loss: 0.2523 - acc: 0.9235 - val_loss: 0.2614 - val_acc: 0.9187\n",
            "Epoch 14/100\n",
            "44/44 [==============================] - 12s 277ms/step - loss: 0.1991 - acc: 0.9385 - val_loss: 5.8718 - val_acc: 0.1312\n",
            "Epoch 15/100\n",
            "44/44 [==============================] - 12s 276ms/step - loss: 0.1845 - acc: 0.9485 - val_loss: 0.0976 - val_acc: 0.9750\n",
            "Epoch 16/100\n",
            "44/44 [==============================] - 13s 302ms/step - loss: 0.1677 - acc: 0.9471 - val_loss: 0.4582 - val_acc: 0.8500\n",
            "Epoch 17/100\n",
            "44/44 [==============================] - 12s 279ms/step - loss: 0.2208 - acc: 0.9285 - val_loss: 0.6452 - val_acc: 0.8313\n",
            "Epoch 18/100\n",
            "44/44 [==============================] - 12s 281ms/step - loss: 0.1643 - acc: 0.9492 - val_loss: 4.4426 - val_acc: 0.2375\n",
            "Epoch 19/100\n",
            "44/44 [==============================] - 13s 285ms/step - loss: 0.2013 - acc: 0.9414 - val_loss: 0.1091 - val_acc: 0.9750\n",
            "Epoch 20/100\n",
            "44/44 [==============================] - 12s 274ms/step - loss: 0.1339 - acc: 0.9557 - val_loss: 0.0702 - val_acc: 0.9812\n",
            "Epoch 21/100\n",
            "44/44 [==============================] - 12s 277ms/step - loss: 0.1304 - acc: 0.9593 - val_loss: 0.1236 - val_acc: 0.9688\n",
            "Epoch 22/100\n",
            "44/44 [==============================] - 12s 278ms/step - loss: 0.1728 - acc: 0.9492 - val_loss: 3.4864 - val_acc: 0.1750\n",
            "Epoch 23/100\n",
            "44/44 [==============================] - 12s 275ms/step - loss: 0.1619 - acc: 0.9507 - val_loss: 0.0879 - val_acc: 0.9750\n",
            "Epoch 24/100\n",
            "44/44 [==============================] - 12s 280ms/step - loss: 0.1483 - acc: 0.9571 - val_loss: 0.1183 - val_acc: 0.9688\n",
            "Epoch 25/100\n",
            "44/44 [==============================] - 12s 274ms/step - loss: 0.1370 - acc: 0.9585 - val_loss: 0.0755 - val_acc: 0.9688\n",
            "Epoch 26/100\n",
            "44/44 [==============================] - 12s 269ms/step - loss: 0.1110 - acc: 0.9635 - val_loss: 0.2033 - val_acc: 0.9438\n",
            "Epoch 27/100\n",
            "44/44 [==============================] - 12s 271ms/step - loss: 0.1507 - acc: 0.9550 - val_loss: 0.2288 - val_acc: 0.9563\n",
            "Epoch 28/100\n",
            "44/44 [==============================] - 12s 272ms/step - loss: 0.1093 - acc: 0.9671 - val_loss: 0.1211 - val_acc: 0.9438\n",
            "Epoch 29/100\n",
            "44/44 [==============================] - 12s 273ms/step - loss: 0.1345 - acc: 0.9557 - val_loss: 0.0913 - val_acc: 0.9750\n",
            "Epoch 30/100\n",
            "44/44 [==============================] - 12s 276ms/step - loss: 0.1332 - acc: 0.9500 - val_loss: 0.3075 - val_acc: 0.9438\n",
            "Epoch 31/100\n",
            "44/44 [==============================] - 12s 274ms/step - loss: 0.1307 - acc: 0.9600 - val_loss: 0.5871 - val_acc: 0.9000\n",
            "Epoch 32/100\n",
            "44/44 [==============================] - 12s 273ms/step - loss: 0.1155 - acc: 0.9657 - val_loss: 0.0910 - val_acc: 0.9812\n",
            "Epoch 33/100\n",
            "44/44 [==============================] - 12s 272ms/step - loss: 0.1064 - acc: 0.9721 - val_loss: 0.9343 - val_acc: 0.6375\n",
            "Epoch 34/100\n",
            "44/44 [==============================] - 12s 272ms/step - loss: 0.1272 - acc: 0.9643 - val_loss: 0.0537 - val_acc: 0.9812\n",
            "Epoch 35/100\n",
            "44/44 [==============================] - 12s 270ms/step - loss: 0.1247 - acc: 0.9628 - val_loss: 0.7397 - val_acc: 0.8625\n",
            "Epoch 36/100\n",
            "44/44 [==============================] - 12s 273ms/step - loss: 0.1298 - acc: 0.9643 - val_loss: 0.2153 - val_acc: 0.9500\n",
            "Epoch 37/100\n",
            "44/44 [==============================] - 12s 274ms/step - loss: 0.1581 - acc: 0.9621 - val_loss: 0.0642 - val_acc: 0.9812\n",
            "Epoch 38/100\n",
            "44/44 [==============================] - 12s 274ms/step - loss: 0.1414 - acc: 0.9492 - val_loss: 0.0930 - val_acc: 0.9812\n",
            "Epoch 39/100\n",
            "44/44 [==============================] - 12s 273ms/step - loss: 0.1243 - acc: 0.9578 - val_loss: 0.0148 - val_acc: 1.0000\n",
            "Epoch 40/100\n",
            "44/44 [==============================] - 12s 271ms/step - loss: 0.0931 - acc: 0.9721 - val_loss: 0.0927 - val_acc: 0.9937\n",
            "Epoch 41/100\n",
            "44/44 [==============================] - 12s 272ms/step - loss: 0.1135 - acc: 0.9643 - val_loss: 0.4399 - val_acc: 0.9125\n",
            "Epoch 42/100\n",
            "44/44 [==============================] - 12s 270ms/step - loss: 0.1607 - acc: 0.9528 - val_loss: 0.0372 - val_acc: 0.9875\n",
            "Epoch 43/100\n",
            "44/44 [==============================] - 12s 271ms/step - loss: 0.1322 - acc: 0.9564 - val_loss: 0.0550 - val_acc: 0.9875\n",
            "Epoch 44/100\n",
            "44/44 [==============================] - 12s 270ms/step - loss: 0.1580 - acc: 0.9521 - val_loss: 0.4015 - val_acc: 0.9062\n",
            "Epoch 45/100\n",
            "44/44 [==============================] - 12s 269ms/step - loss: 0.1546 - acc: 0.9442 - val_loss: 0.1370 - val_acc: 0.9750\n",
            "Epoch 46/100\n",
            "44/44 [==============================] - 12s 270ms/step - loss: 0.1670 - acc: 0.9450 - val_loss: 0.5882 - val_acc: 0.7937\n",
            "Epoch 47/100\n",
            "44/44 [==============================] - 12s 269ms/step - loss: 0.1018 - acc: 0.9714 - val_loss: 0.0922 - val_acc: 0.9875\n",
            "Epoch 48/100\n",
            "44/44 [==============================] - 12s 268ms/step - loss: 0.0990 - acc: 0.9671 - val_loss: 0.1024 - val_acc: 0.9625\n",
            "Epoch 49/100\n",
            "44/44 [==============================] - 12s 270ms/step - loss: 0.1258 - acc: 0.9571 - val_loss: 0.0151 - val_acc: 0.9937\n",
            "Epoch 50/100\n",
            "44/44 [==============================] - 12s 267ms/step - loss: 0.1107 - acc: 0.9621 - val_loss: 0.0385 - val_acc: 0.9812\n",
            "Epoch 51/100\n",
            "44/44 [==============================] - 12s 266ms/step - loss: 0.1340 - acc: 0.9407 - val_loss: 0.0255 - val_acc: 0.9937\n",
            "Epoch 52/100\n",
            "44/44 [==============================] - 12s 271ms/step - loss: 0.2156 - acc: 0.9357 - val_loss: 0.0248 - val_acc: 0.9937\n",
            "Epoch 53/100\n",
            "44/44 [==============================] - 12s 269ms/step - loss: 0.1350 - acc: 0.9585 - val_loss: 0.2704 - val_acc: 0.9438\n",
            "Epoch 54/100\n",
            "44/44 [==============================] - 12s 267ms/step - loss: 0.1308 - acc: 0.9643 - val_loss: 0.4409 - val_acc: 0.9187\n",
            "Epoch 55/100\n",
            "44/44 [==============================] - 12s 271ms/step - loss: 0.1189 - acc: 0.9628 - val_loss: 0.0593 - val_acc: 0.9750\n",
            "Epoch 56/100\n",
            "44/44 [==============================] - 12s 274ms/step - loss: 0.0975 - acc: 0.9678 - val_loss: 0.1460 - val_acc: 0.9812\n",
            "Epoch 57/100\n",
            "44/44 [==============================] - 12s 268ms/step - loss: 0.1006 - acc: 0.9678 - val_loss: 0.1179 - val_acc: 0.9750\n",
            "Epoch 58/100\n",
            "44/44 [==============================] - 12s 270ms/step - loss: 0.1075 - acc: 0.9621 - val_loss: 0.0174 - val_acc: 0.9875\n",
            "Epoch 59/100\n",
            "44/44 [==============================] - 12s 265ms/step - loss: 0.1011 - acc: 0.9657 - val_loss: 0.1187 - val_acc: 0.9812\n",
            "Epoch 60/100\n",
            "44/44 [==============================] - 12s 263ms/step - loss: 0.0896 - acc: 0.9671 - val_loss: 0.1197 - val_acc: 0.9812\n",
            "Epoch 61/100\n",
            "44/44 [==============================] - 11s 259ms/step - loss: 0.0935 - acc: 0.9685 - val_loss: 0.0110 - val_acc: 0.9937\n",
            "Epoch 62/100\n",
            "44/44 [==============================] - 11s 259ms/step - loss: 0.0902 - acc: 0.9664 - val_loss: 0.0290 - val_acc: 0.9937\n",
            "Epoch 63/100\n",
            "44/44 [==============================] - 12s 262ms/step - loss: 0.1255 - acc: 0.9607 - val_loss: 0.1039 - val_acc: 0.9812\n",
            "Epoch 64/100\n",
            "44/44 [==============================] - 11s 261ms/step - loss: 0.2020 - acc: 0.9414 - val_loss: 0.2354 - val_acc: 0.9563\n",
            "Epoch 65/100\n",
            "44/44 [==============================] - 11s 260ms/step - loss: 0.1313 - acc: 0.9657 - val_loss: 0.2694 - val_acc: 0.9438\n",
            "Epoch 66/100\n",
            "44/44 [==============================] - 11s 260ms/step - loss: 0.0913 - acc: 0.9757 - val_loss: 0.1606 - val_acc: 0.9688\n",
            "Epoch 67/100\n",
            "44/44 [==============================] - 11s 259ms/step - loss: 0.1319 - acc: 0.9600 - val_loss: 0.0251 - val_acc: 0.9875\n",
            "Epoch 68/100\n",
            "44/44 [==============================] - 11s 260ms/step - loss: 0.1123 - acc: 0.9614 - val_loss: 0.2164 - val_acc: 0.9438\n",
            "Epoch 69/100\n",
            "44/44 [==============================] - 12s 263ms/step - loss: 0.1405 - acc: 0.9535 - val_loss: 1.0139 - val_acc: 0.6875\n",
            "Epoch 70/100\n",
            "44/44 [==============================] - 11s 258ms/step - loss: 0.3148 - acc: 0.9107 - val_loss: 0.2981 - val_acc: 0.9062\n",
            "Epoch 71/100\n",
            "44/44 [==============================] - 11s 261ms/step - loss: 0.3248 - acc: 0.8863 - val_loss: 0.3035 - val_acc: 0.9500\n",
            "Epoch 72/100\n",
            "44/44 [==============================] - 12s 263ms/step - loss: 0.1822 - acc: 0.9414 - val_loss: 0.3943 - val_acc: 0.9312\n",
            "Epoch 73/100\n",
            "44/44 [==============================] - 11s 259ms/step - loss: 0.1910 - acc: 0.9435 - val_loss: 0.2070 - val_acc: 0.9438\n",
            "Epoch 74/100\n",
            "44/44 [==============================] - 12s 264ms/step - loss: 0.1391 - acc: 0.9593 - val_loss: 0.2615 - val_acc: 0.9438\n",
            "Epoch 75/100\n",
            "44/44 [==============================] - 12s 264ms/step - loss: 0.1154 - acc: 0.9671 - val_loss: 0.0427 - val_acc: 0.9875\n",
            "Epoch 76/100\n",
            "44/44 [==============================] - 11s 260ms/step - loss: 0.1501 - acc: 0.9535 - val_loss: 0.6798 - val_acc: 0.7937\n",
            "Epoch 77/100\n",
            "44/44 [==============================] - 11s 260ms/step - loss: 0.4275 - acc: 0.8427 - val_loss: 0.5099 - val_acc: 0.9500\n",
            "Epoch 78/100\n",
            "44/44 [==============================] - 12s 268ms/step - loss: 0.2307 - acc: 0.9292 - val_loss: 0.1554 - val_acc: 0.9438\n",
            "Epoch 79/100\n",
            "44/44 [==============================] - 12s 266ms/step - loss: 0.2114 - acc: 0.9357 - val_loss: 0.1341 - val_acc: 0.9563\n",
            "Epoch 80/100\n",
            "44/44 [==============================] - 12s 266ms/step - loss: 0.1667 - acc: 0.9407 - val_loss: 0.1418 - val_acc: 0.9625\n",
            "Epoch 81/100\n",
            "44/44 [==============================] - 11s 260ms/step - loss: 0.1158 - acc: 0.9628 - val_loss: 0.4386 - val_acc: 0.9062\n",
            "Epoch 82/100\n",
            "44/44 [==============================] - 12s 264ms/step - loss: 0.1429 - acc: 0.9557 - val_loss: 0.2359 - val_acc: 0.9438\n",
            "Epoch 83/100\n",
            "44/44 [==============================] - 12s 268ms/step - loss: 0.1067 - acc: 0.9650 - val_loss: 0.0463 - val_acc: 0.9875\n",
            "Epoch 84/100\n",
            "44/44 [==============================] - 12s 265ms/step - loss: 0.0752 - acc: 0.9757 - val_loss: 0.1305 - val_acc: 0.9688\n",
            "Epoch 85/100\n",
            "44/44 [==============================] - 12s 263ms/step - loss: 0.0806 - acc: 0.9736 - val_loss: 0.0423 - val_acc: 0.9875\n",
            "Epoch 86/100\n",
            "44/44 [==============================] - 11s 260ms/step - loss: 0.2009 - acc: 0.9378 - val_loss: 2.3771 - val_acc: 0.4500\n",
            "Epoch 87/100\n",
            "44/44 [==============================] - 11s 258ms/step - loss: 0.2871 - acc: 0.9071 - val_loss: 0.2267 - val_acc: 0.9563\n",
            "Epoch 88/100\n",
            "44/44 [==============================] - 11s 260ms/step - loss: 0.2072 - acc: 0.9364 - val_loss: 0.1345 - val_acc: 0.9688\n",
            "Epoch 89/100\n",
            "44/44 [==============================] - 12s 264ms/step - loss: 0.1881 - acc: 0.9421 - val_loss: 0.1331 - val_acc: 0.9625\n",
            "Epoch 90/100\n",
            "44/44 [==============================] - 12s 264ms/step - loss: 0.1728 - acc: 0.9442 - val_loss: 0.2933 - val_acc: 0.9312\n",
            "Epoch 91/100\n",
            "44/44 [==============================] - 12s 264ms/step - loss: 0.1622 - acc: 0.9550 - val_loss: 1.0753 - val_acc: 0.5312\n",
            "Epoch 92/100\n",
            "44/44 [==============================] - 12s 263ms/step - loss: 0.1090 - acc: 0.9650 - val_loss: 1.2638 - val_acc: 0.4250\n",
            "Epoch 93/100\n",
            "44/44 [==============================] - 11s 259ms/step - loss: 0.1343 - acc: 0.9550 - val_loss: 0.1597 - val_acc: 0.9750\n",
            "Epoch 94/100\n",
            "44/44 [==============================] - 11s 260ms/step - loss: 0.1280 - acc: 0.9614 - val_loss: 0.1288 - val_acc: 0.9750\n",
            "Epoch 95/100\n",
            "44/44 [==============================] - 11s 259ms/step - loss: 0.1161 - acc: 0.9614 - val_loss: 0.1193 - val_acc: 0.9688\n",
            "Epoch 96/100\n",
            "44/44 [==============================] - 12s 262ms/step - loss: 0.2129 - acc: 0.9371 - val_loss: 11.8596 - val_acc: 0.1500\n",
            "Epoch 97/100\n",
            "44/44 [==============================] - 12s 264ms/step - loss: 0.2073 - acc: 0.9385 - val_loss: 0.2651 - val_acc: 0.9812\n",
            "Epoch 98/100\n",
            "44/44 [==============================] - 12s 262ms/step - loss: 0.1055 - acc: 0.9685 - val_loss: 0.2115 - val_acc: 0.9750\n",
            "Epoch 99/100\n",
            "44/44 [==============================] - 12s 265ms/step - loss: 0.1277 - acc: 0.9578 - val_loss: 0.1675 - val_acc: 0.9812\n",
            "Epoch 100/100\n",
            "44/44 [==============================] - 12s 266ms/step - loss: 0.1084 - acc: 0.9635 - val_loss: 0.2027 - val_acc: 0.9812\n"
          ]
        }
      ]
    },
    {
      "cell_type": "code",
      "metadata": {
        "colab": {
          "base_uri": "https://localhost:8080/"
        },
        "id": "KM_4J5WIGsxH",
        "outputId": "a6ef8aa5-8638-44f7-dcfd-29180ca11f32"
      },
      "source": [
        "# TULIS CODE UNTUK MENCETAK LAMA TRAINING TIME DISINI\n",
        "print(\"waktu = \", time.time() - start, \"detik\")"
      ],
      "execution_count": null,
      "outputs": [
        {
          "output_type": "stream",
          "name": "stdout",
          "text": [
            "waktu =  1269.9011499881744 detik\n"
          ]
        }
      ]
    },
    {
      "cell_type": "code",
      "metadata": {
        "id": "gXMfB7zfGxrC"
      },
      "source": [
        "from keras.models import save_model\n",
        "model = save_model(model,'modul3.h5')"
      ],
      "execution_count": null,
      "outputs": []
    },
    {
      "cell_type": "code",
      "metadata": {
        "colab": {
          "base_uri": "https://localhost:8080/"
        },
        "id": "asaKQSSiGxtg",
        "outputId": "a200b0a8-224f-4fcf-d35d-3ddeac45c5d5"
      },
      "source": [
        "!ls"
      ],
      "execution_count": null,
      "outputs": [
        {
          "output_type": "stream",
          "name": "stdout",
          "text": [
            "kaggle.json  paper\t\t       rock\t      scissors\ttrain\n",
            "modul3.h5    README_rpc-cv-images.txt  rps-cv-images  test\tvalidation\n"
          ]
        }
      ]
    },
    {
      "cell_type": "code",
      "metadata": {
        "colab": {
          "base_uri": "https://localhost:8080/",
          "height": 581
        },
        "id": "KwzEhtKpG3JS",
        "outputId": "7faf21ae-7a26-42f7-eff8-8eef0eb625a5"
      },
      "source": [
        "# TULIS CODE UNTUK PLOT EVALUASI MODEL DISINI\n",
        "plt.style.use(\"ggplot\")\n",
        "plt.figure()\n",
        "plt.plot(np.arange(0, 100), H.history[\"loss\"], label=\"train_loss\")\n",
        "plt.plot(np.arange(0, 100), H.history[\"val_loss\"], label=\"val_loss\")\n",
        "plt.title(\"Loss Plot\")\n",
        "plt.xlabel(\"Epoch #\")\n",
        "plt.ylabel(\"Loss\")\n",
        "plt.legend()\n",
        "plt.show()\n",
        "\n",
        "plt.style.use(\"ggplot\")\n",
        "plt.figure()\n",
        "plt.plot(np.arange(0, 100), H.history[\"acc\"], label=\"train_acc\")\n",
        "plt.plot(np.arange(0, 100), H.history[\"val_acc\"], label=\"val_acc\")\n",
        "plt.title(\"Accuracy Plot\")\n",
        "plt.xlabel(\"Epoch #\")\n",
        "plt.ylabel(\"Acc\")\n",
        "plt.legend()\n",
        "plt.show()"
      ],
      "execution_count": null,
      "outputs": [
        {
          "output_type": "display_data",
          "data": {
            "image/png": "[encoded data removed]",
            "text/plain": [
              "<Figure size 432x288 with 1 Axes>"
            ]
          },
          "metadata": {}
        },
        {
          "output_type": "display_data",
          "data": {
            "image/png": "[encoded data removed]",
            "text/plain": [
              "<Figure size 432x288 with 1 Axes>"
            ]
          },
          "metadata": {}
        }
      ]
    },
    {
      "cell_type": "code",
      "metadata": {
        "colab": {
          "base_uri": "https://localhost:8080/",
          "height": 1000
        },
        "id": "t3mZc9fbG3MN",
        "outputId": "5e22f9c9-fb1e-44cf-b4fd-a9de7277f122"
      },
      "source": [
        "# TULIS CODE UNTUK PREDIKSI DATA TEST DISINI\n",
        "import numpy as np\n",
        "import matplotlib.image as mpimg\n",
        "import matplotlib.pyplot as plt\n",
        "from keras.models import Sequential, load_model\n",
        "from keras.preprocessing.image import ImageDataGenerator, load_img, img_to_array\n",
        "\n",
        "model_path = 'modul3.h5'\n",
        "model_weights_path = 'weight.h5'\n",
        "test_path = 'test'\n",
        "\n",
        "model = load_model(model_path)\n",
        "\n",
        "def predict(file):\n",
        "  x = load_img(file, target_size=(128,128))\n",
        "  x = img_to_array(x)\n",
        "  x = np.expand_dims(x, axis=0)\n",
        "  array = model.predict(x)\n",
        "  result = array[0]\n",
        "  #print(result)\n",
        "  answer = np.argmax(result)\n",
        "  if answer == 1:\n",
        "    print(\"Predicted: rock\")\n",
        "  elif answer == 0:\n",
        "    print(\"Predicted: paper\")\n",
        "  elif answer == 2:\n",
        "    print(\"Predicted: scissors\")\n",
        "\n",
        "  return answer\n",
        "\n",
        "#Walk the directory for every image\n",
        "for i, ret in enumerate(os.walk(test_path)):\n",
        "  for i, filename in enumerate(ret[2]):\n",
        "    if filename.startswith(\".\"):\n",
        "      continue\n",
        "    \n",
        "    print(ret[0] + '/' + filename)\n",
        "    img = mpimg.imread(ret[0] + '/' + filename)\n",
        "    plt.imshow(img)\n",
        "    result = predict(ret[0] + '/' + filename)\n",
        "    print(\" \")"
      ],
      "execution_count": null,
      "outputs": [
        {
          "output_type": "stream",
          "name": "stdout",
          "text": [
            "test/rock/dZ6rscIYTbmlwVZE.png\n",
            "Predicted: rock\n",
            " \n",
            "test/rock/dnss2tOuxRmL0ZjZ.png\n",
            "Predicted: rock\n",
            " \n",
            "test/rock/dwcRLIlsRlaRevNn.png\n",
            "Predicted: rock\n",
            " \n",
            "test/rock/dxfucopsE3UFuH28.png\n",
            "Predicted: rock\n",
            " \n",
            "test/rock/e6cXS0w2KOKKEYZU.png\n",
            "Predicted: scissors\n",
            " \n",
            "test/rock/eGm3dLnWBxRrjlJX.png\n",
            "Predicted: rock\n",
            " \n",
            "test/rock/eHSa1nP8bmRToqyG.png\n",
            "Predicted: scissors\n",
            " \n",
            "test/rock/eJ5fbY23rZWUULxO.png\n",
            "Predicted: rock\n",
            " \n",
            "test/rock/eTo9zgxdhJJAvrfM.png\n",
            "Predicted: rock\n",
            " \n",
            "test/rock/eb93o1ZDeBlrdfyc.png\n",
            "Predicted: rock\n",
            " \n",
            "test/rock/esqqaIq6wKOr8EK6.png\n",
            "Predicted: rock\n",
            " \n",
            "test/rock/evxvBwQgL8Kvv67C.png\n",
            "Predicted: rock\n",
            " \n",
            "test/rock/f1yI657Ka9iHuVGB.png\n",
            "Predicted: rock\n",
            " \n",
            "test/rock/f2pYnAURozqBDJDy.png\n",
            "Predicted: rock\n",
            " \n",
            "test/rock/f48wzqwquNrvjICP.png\n",
            "Predicted: rock\n",
            " \n",
            "test/rock/fGaDsQT8mUTaytaT.png\n",
            "Predicted: rock\n",
            " \n",
            "test/rock/fK7m8vZQS1RUHcMr.png\n",
            "Predicted: rock\n",
            " \n",
            "test/rock/fLFzQoErbCBRR6NM.png\n",
            "Predicted: scissors\n",
            " \n",
            "test/rock/fMQzh7RRM5fbtBiC.png\n",
            "Predicted: rock\n",
            " \n",
            "test/rock/fQPCA8oYZ8ywDgyv.png\n",
            "Predicted: rock\n",
            " \n",
            "test/rock/fa3PZHjdAUZAob3q.png\n",
            "Predicted: scissors\n",
            " \n",
            "test/rock/fiivFS9iUjynQIB5.png\n",
            "Predicted: rock\n",
            " \n",
            "test/rock/fjPydEfNWCvgobYu.png\n",
            "Predicted: rock\n",
            " \n",
            "test/rock/fl3m2aXD9qq7un0x.png\n",
            "Predicted: rock\n",
            " \n",
            "test/rock/fnIIkyRgH6znwmNp.png\n",
            "Predicted: scissors\n",
            " \n",
            "test/rock/foxUXc8WPRDAd6LM.png\n",
            "Predicted: scissors\n",
            " \n",
            "test/rock/fsN97zyPFSfYwnsS.png\n",
            "Predicted: rock\n",
            " \n",
            "test/rock/g04l14MAwqQthuWW.png\n",
            "Predicted: rock\n",
            " \n",
            "test/rock/g9lqYZfHWUb3cm08.png\n",
            "Predicted: rock\n",
            " \n",
            "test/rock/gIuYTYdTVKnNAc5m.png\n",
            "Predicted: rock\n",
            " \n",
            "test/rock/gN9QXTe8BSMMHyAn.png\n",
            "Predicted: rock\n",
            " \n",
            "test/rock/gPFCK0WnHem9uYEW.png\n",
            "Predicted: rock\n",
            " \n",
            "test/rock/gRiBjZUJv5LqQXYZ.png\n",
            "Predicted: rock\n",
            " \n",
            "test/rock/gaZKijiVXyjhSLYp.png\n",
            "Predicted: rock\n",
            " \n",
            "test/rock/gaackCmGss3Lt4tj.png\n",
            "Predicted: rock\n",
            " \n",
            "test/rock/gc8jqxVapG2o8ol1.png\n",
            "Predicted: rock\n",
            " \n",
            "test/rock/gjdBDXv7avQwgTr3.png\n",
            "Predicted: rock\n",
            " \n",
            "test/rock/glL1mPYeHM552bV4.png\n",
            "Predicted: rock\n",
            " \n",
            "test/rock/goDBJj8kMSQbpQZT.png\n",
            "Predicted: rock\n",
            " \n",
            "test/rock/gtVEm7JEdr0wE1ip.png\n",
            "Predicted: rock\n",
            " \n",
            "test/rock/gutk3kRhu9AfjYWQ.png\n",
            "Predicted: rock\n",
            " \n",
            "test/rock/h89sRVkct1nAdPfo.png\n",
            "Predicted: rock\n",
            " \n",
            "test/rock/hAcc7l7XQ9EtxxfR.png\n",
            "Predicted: rock\n",
            " \n",
            "test/rock/hMqKoUYAvB91YRuO.png\n",
            "Predicted: rock\n",
            " \n",
            "test/rock/hNKauGm372Z48JWy.png\n",
            "Predicted: scissors\n",
            " \n",
            "test/rock/hOgtdOKps4GHrC05.png\n",
            "Predicted: rock\n",
            " \n",
            "test/rock/hTzQIKUtmllw7je8.png\n",
            "Predicted: scissors\n",
            " \n",
            "test/rock/hfNIdhXfFcNcv37n.png\n",
            "Predicted: rock\n",
            " \n",
            "test/rock/hfvXIbr96w55MAIz.png\n",
            "Predicted: scissors\n",
            " \n",
            "test/rock/hi4vWQhDFKyTs4iJ.png\n",
            "Predicted: rock\n",
            " \n",
            "test/rock/how0vUOltuU1m495.png\n",
            "Predicted: rock\n",
            " \n",
            "test/rock/hqD5rX5jXifrtMJO.png\n",
            "Predicted: rock\n",
            " \n",
            "test/rock/hyWWmz1OwgoE5JlU.png\n",
            "Predicted: rock\n",
            " \n",
            "test/rock/i1GxDtZ5awTW7Rsf.png\n",
            "Predicted: rock\n",
            " \n",
            "test/rock/i5FY2iOcMjYyop5u.png\n",
            "Predicted: rock\n",
            " \n",
            "test/rock/i85n2S7UREOq5svM.png\n",
            "Predicted: scissors\n",
            " \n",
            "test/rock/iCLIvwweBESAwx4z.png\n",
            "Predicted: rock\n",
            " \n",
            "test/rock/iCR447ESdUXjdOFz.png\n",
            "Predicted: scissors\n",
            " \n",
            "test/rock/iDKbsfPFabN9bUKT.png\n",
            "Predicted: rock\n",
            " \n",
            "test/rock/iEYJn6rg6FCcLqQv.png\n",
            "Predicted: rock\n",
            " \n",
            "test/rock/iILNKQp2qExtn6JV.png\n",
            "Predicted: rock\n",
            " \n",
            "test/rock/iIaYawwgu5W18LS9.png\n",
            "Predicted: rock\n",
            " \n",
            "test/rock/iKI9Mw3KvEOuuj9o.png\n",
            "Predicted: rock\n",
            " \n",
            "test/rock/iQ8Ef3yZ12whKccA.png\n",
            "Predicted: rock\n",
            " \n",
            "test/rock/iTEpNyc8wQiAbm0I.png\n",
            "Predicted: rock\n",
            " \n",
            "test/rock/iVsm6EbRk1J1cEGN.png\n",
            "Predicted: rock\n",
            " \n",
            "test/rock/iYSPVRaZyIwKTrot.png\n",
            "Predicted: rock\n",
            " \n",
            "test/rock/iaEybTdfnL0RoU9I.png\n",
            "Predicted: scissors\n",
            " \n",
            "test/rock/ikusbrqDgla4SEas.png\n",
            "Predicted: rock\n",
            " \n",
            "test/rock/iupz1I8ISgp6PDj7.png\n",
            "Predicted: rock\n",
            " \n",
            "test/rock/iwM1SIgty28sLu2p.png\n",
            "Predicted: scissors\n",
            " \n",
            "test/rock/izGsLJJdOIpr54aV.png\n",
            "Predicted: rock\n",
            " \n",
            "test/rock/j31qLVBZfstRnWsA.png\n",
            "Predicted: rock\n",
            " \n",
            "test/rock/jJVH6kP3VRPHbWvs.png\n",
            "Predicted: rock\n",
            " \n",
            "test/rock/jKWUHfF0b4BzWBEk.png\n",
            "Predicted: rock\n",
            " \n",
            "test/rock/jpuIILjefqjHtUtk.png\n",
            "Predicted: rock\n",
            " \n",
            "test/rock/jqMSEFiMhpIWzJfe.png\n",
            "Predicted: rock\n",
            " \n",
            "test/rock/k24NaH1jhXog9y7y.png\n",
            "Predicted: rock\n",
            " \n",
            "test/rock/k3AidZ3WX8t14gcJ.png\n",
            "Predicted: rock\n",
            " \n",
            "test/rock/k6r5z3dMsqo2H6hk.png\n",
            "Predicted: rock\n",
            " \n",
            "test/rock/kS7mPmAkxkSxs1WR.png\n",
            "Predicted: scissors\n",
            " \n",
            "test/rock/kVwUUOjOc6VtZVMt.png\n",
            "Predicted: scissors\n",
            " \n",
            "test/rock/kW4W7E0A1Wpo45eL.png\n",
            "Predicted: rock\n",
            " \n",
            "test/rock/kcZfTQqKr8VaSjhk.png\n",
            "Predicted: scissors\n",
            " \n",
            "test/rock/kdSoBBdU2T0eoWR2.png\n",
            "Predicted: rock\n",
            " \n",
            "test/rock/kfz2fRvWcTqPzQxn.png\n",
            "Predicted: rock\n",
            " \n",
            "test/rock/koWcxNMbMRN8TxnP.png\n",
            "Predicted: rock\n",
            " \n",
            "test/rock/ktot0Gt2YvkPXl1X.png\n",
            "Predicted: scissors\n",
            " \n",
            "test/rock/ktvHAgLHY7YAY1Af.png\n",
            "Predicted: rock\n",
            " \n",
            "test/rock/l0XeoPGwezMDYujz.png\n",
            "Predicted: rock\n",
            " \n",
            "test/rock/l0rOvSD1UwFg1Xv2.png\n",
            "Predicted: rock\n",
            " \n",
            "test/rock/l6tos9roQ0hnCmfj.png\n",
            "Predicted: rock\n",
            " \n",
            "test/rock/lFRtpAScOeikVDZB.png\n",
            "Predicted: scissors\n",
            " \n",
            "test/rock/lJTADoCRRndhoR4k.png\n",
            "Predicted: rock\n",
            " \n",
            "test/rock/lN7rUXL8DBzW1KoR.png\n",
            "Predicted: scissors\n",
            " \n",
            "test/rock/lO2wvyJGrQBZvX9P.png\n",
            "Predicted: rock\n",
            " \n",
            "test/rock/lOCJEdb3BZAfi6Fg.png\n",
            "Predicted: rock\n",
            " \n",
            "test/rock/lXb5SpRU737FgSN8.png\n",
            "Predicted: rock\n",
            " \n",
            "test/rock/lZcZsaDTx2vWJFun.png\n",
            "Predicted: rock\n",
            " \n",
            "test/rock/lb0hZJ95AjtXzoHf.png\n",
            "Predicted: rock\n",
            " \n",
            "test/rock/lcZcrpCoDl7Y1AUF.png\n",
            "Predicted: rock\n",
            " \n",
            "test/rock/lfR51TrQjuKJXkT6.png\n",
            "Predicted: scissors\n",
            " \n",
            "test/rock/lh18XOTNn8Tr3ijU.png\n",
            "Predicted: scissors\n",
            " \n",
            "test/rock/lpmH56YGWEHsmhBi.png\n",
            "Predicted: rock\n",
            " \n",
            "test/rock/lw3m9jLBwagsVLJs.png\n",
            "Predicted: rock\n",
            " \n",
            "test/rock/m0xWKKlJMcCcQagG.png\n",
            "Predicted: rock\n",
            " \n",
            "test/rock/m7OF0PiEJCUJyf6K.png\n",
            "Predicted: rock\n",
            " \n",
            "test/rock/mJ0RjteYaLfYLE9P.png\n",
            "Predicted: rock\n",
            " \n",
            "test/rock/mN2Tm82UB8XH1eNs.png\n",
            "Predicted: rock\n",
            " \n",
            "test/rock/mdHOkH88KHqpjkEM.png\n",
            "Predicted: rock\n",
            " \n",
            "test/rock/mu2i6dWPZNLGnnPy.png\n",
            "Predicted: rock\n",
            " \n",
            "test/rock/muKpkJF3C3j0TmAN.png\n",
            "Predicted: rock\n",
            " \n",
            "test/rock/mwbC6miMP5CXTp3a.png\n",
            "Predicted: rock\n",
            " \n",
            "test/rock/n3ryKsLTPcGhpW6S.png\n",
            "Predicted: rock\n",
            " \n",
            "test/rock/n61z73RnZB19Bpq8.png\n",
            "Predicted: rock\n",
            " \n",
            "test/rock/nGW6IQjCFT5tCw6j.png\n",
            "Predicted: rock\n",
            " \n",
            "test/paper/cf9L4KKsfsFpRrYA.png\n",
            "Predicted: scissors\n",
            " \n",
            "test/paper/cfCjmEcXysh0H52D.png\n",
            "Predicted: scissors\n",
            " \n",
            "test/paper/coKLsdqkvkYUv247.png\n",
            "Predicted: scissors\n",
            " \n",
            "test/paper/crYtjQcVKQjCAWYq.png\n",
            "Predicted: scissors\n",
            " \n",
            "test/paper/cuDzhxpWujBPgJmX.png\n",
            "Predicted: scissors\n",
            " \n",
            "test/paper/cw7oAjQLSjDYZPXH.png\n",
            "Predicted: scissors\n",
            " \n",
            "test/paper/d5FmD95HmhodiITj.png\n",
            "Predicted: scissors\n",
            " \n",
            "test/paper/dDtRH0QF7IPSsasH.png\n",
            "Predicted: scissors\n",
            " \n",
            "test/paper/dF7Gvm0vgCJZofAW.png\n",
            "Predicted: scissors\n",
            " \n",
            "test/paper/dIg7Ds4xEzk0pyWZ.png\n",
            "Predicted: scissors\n",
            " \n",
            "test/paper/dPSQ4TKPBJyjv6cH.png\n",
            "Predicted: scissors\n",
            " \n",
            "test/paper/dUDR2ViadkqS6EHf.png\n",
            "Predicted: scissors\n",
            " \n",
            "test/paper/dZh2VMRu9nRGHhYL.png\n",
            "Predicted: scissors\n",
            " \n",
            "test/paper/dZxpgHYRuQNv7T7A.png\n",
            "Predicted: scissors\n",
            " \n",
            "test/paper/dftjUImANb0Q9pMA.png\n",
            "Predicted: scissors\n",
            " \n",
            "test/paper/djVVgBL6PqTdtr6l.png\n",
            "Predicted: scissors\n",
            " \n",
            "test/paper/dmT5g2m3meABNfCJ.png\n",
            "Predicted: scissors\n",
            " \n",
            "test/paper/dyHfn1GBYIj195b5.png\n",
            "Predicted: scissors\n",
            " \n",
            "test/paper/e50cckZL8BKmqzjd.png\n",
            "Predicted: scissors\n",
            " \n",
            "test/paper/e6blzPfvGcrcHaKl.png\n",
            "Predicted: scissors\n",
            " \n",
            "test/paper/e96cq72UJTICTkE0.png\n",
            "Predicted: scissors\n",
            " \n",
            "test/paper/eASnEW16rlMUPMf3.png\n",
            "Predicted: scissors\n",
            " \n",
            "test/paper/eBU0DmyWZu3WLjSO.png\n",
            "Predicted: scissors\n",
            " \n",
            "test/paper/eBjRjXUIy7fpUaRy.png\n",
            "Predicted: scissors\n",
            " \n",
            "test/paper/eCZWzeGkpX6rdizo.png\n",
            "Predicted: scissors\n",
            " \n",
            "test/paper/eCpHvcUt4r7A9xJE.png\n",
            "Predicted: scissors\n",
            " \n",
            "test/paper/eLBTZkvB4E951ml0.png\n",
            "Predicted: scissors\n",
            " \n",
            "test/paper/eLNpUj2AZ1h4Mrxu.png\n",
            "Predicted: scissors\n",
            " \n",
            "test/paper/ePEd8TOzTgrGz5M2.png\n",
            "Predicted: scissors\n",
            " \n",
            "test/paper/eQaNnPaHwKsOJaYq.png\n",
            "Predicted: scissors\n",
            " \n",
            "test/paper/eW9ezZkV7Jxu1BEk.png\n",
            "Predicted: scissors\n",
            " \n",
            "test/paper/eaOtD5yLQHTuFTz3.png\n",
            "Predicted: scissors\n",
            " \n",
            "test/paper/ehzdlf5B1HtVgpRs.png\n",
            "Predicted: scissors\n",
            " \n",
            "test/paper/eiiwN1DsKoIheMgz.png\n",
            "Predicted: scissors\n",
            " \n",
            "test/paper/ejC8QIku5jrtci48.png\n",
            "Predicted: scissors\n",
            " \n",
            "test/paper/em91htnBohvtnG2e.png\n",
            "Predicted: scissors\n",
            " \n",
            "test/paper/et9oIiGQmAgwy7GK.png\n",
            "Predicted: scissors\n",
            " \n",
            "test/paper/f1aYiLdB5VC3L8Kk.png\n",
            "Predicted: scissors\n",
            " \n",
            "test/paper/f423uSEl5slK7nbj.png\n",
            "Predicted: scissors\n",
            " \n",
            "test/paper/fCX7MPg0xO4QP2Mk.png\n",
            "Predicted: scissors\n",
            " \n",
            "test/paper/fMkDqtJgZAKa7dl5.png\n",
            "Predicted: rock\n",
            " \n",
            "test/paper/fPwDPzGZ5JeY0rb9.png\n",
            "Predicted: scissors\n",
            " \n",
            "test/paper/fSWSXO9fumLluiAF.png\n",
            "Predicted: rock\n",
            " \n",
            "test/paper/fYuJzeeHPzGwlGh0.png\n",
            "Predicted: scissors\n",
            " \n",
            "test/paper/fiX6rjBt5qHGMsjc.png\n",
            "Predicted: rock\n",
            " \n",
            "test/paper/fjITlTb11LELvo3e.png\n",
            "Predicted: scissors\n",
            " \n",
            "test/paper/fnbn7osMCGWmqHKZ.png\n",
            "Predicted: scissors\n",
            " \n",
            "test/paper/fwnVVskCSNkB9LUL.png\n",
            "Predicted: scissors\n",
            " \n",
            "test/paper/g028Qv0lVlEbKi1q.png\n",
            "Predicted: scissors\n",
            " \n",
            "test/paper/gFqfkMtX39sTkrSB.png\n",
            "Predicted: scissors\n",
            " \n",
            "test/paper/gO7yxcP6H1vZ7lOe.png\n",
            "Predicted: scissors\n",
            " \n",
            "test/paper/gR2aEiEX8CzCtyBN.png\n",
            "Predicted: scissors\n",
            " \n",
            "test/paper/gVd3f9CZNll3QS8l.png\n",
            "Predicted: rock\n",
            " \n",
            "test/paper/gpipGA62xfMjfr8O.png\n",
            "Predicted: scissors\n",
            " \n",
            "test/paper/h4yYJuwG5dUXEY1B.png\n",
            "Predicted: scissors\n",
            " \n",
            "test/paper/hCPYo6pBGExadl5o.png\n",
            "Predicted: scissors\n",
            " \n",
            "test/paper/hH7jcOkAiHqNDWcy.png\n",
            "Predicted: scissors\n",
            " \n",
            "test/paper/hHY3BbYoVFjLEsbd.png\n",
            "Predicted: scissors\n",
            " \n",
            "test/paper/hUDN2qXDxjoGBWqu.png\n",
            "Predicted: scissors\n",
            " \n",
            "test/paper/hWVwQVI74lc5zgyK.png\n",
            "Predicted: scissors\n",
            " \n",
            "test/paper/hfYfNNtqkFzF9BE4.png\n",
            "Predicted: scissors\n",
            " \n",
            "test/paper/hu3OxByp0O4KCJft.png\n",
            "Predicted: scissors\n",
            " \n",
            "test/paper/hxUxn67g42jOHGHi.png\n",
            "Predicted: scissors\n",
            " \n",
            "test/paper/i47BmmqwUa4y0jIP.png\n",
            "Predicted: rock\n",
            " \n",
            "test/paper/iGiF1suI8wXP6A2r.png\n",
            "Predicted: scissors\n",
            " \n",
            "test/paper/ib30bLCbBl0mKWko.png\n",
            "Predicted: scissors\n",
            " \n",
            "test/paper/j8dvLhkeL92SpOGj.png\n",
            "Predicted: scissors\n",
            " \n",
            "test/paper/jAh36hlZLpECSBHp.png\n",
            "Predicted: scissors\n",
            " \n",
            "test/paper/jCTsslbOLn04znvK.png\n",
            "Predicted: scissors\n",
            " \n",
            "test/paper/jXhwHToky4rsswCO.png\n",
            "Predicted: scissors\n",
            " \n",
            "test/paper/jYSFgcG68qqavVn6.png\n",
            "Predicted: scissors\n",
            " \n",
            "test/paper/jZe5ePOjxcQEJitP.png\n",
            "Predicted: scissors\n",
            " \n",
            "test/paper/jaxChUvakWAN9eTs.png\n",
            "Predicted: scissors\n",
            " \n",
            "test/paper/jl6AlteXSalbS3rG.png\n",
            "Predicted: scissors\n",
            " \n",
            "test/paper/jqQlxUsZOssnmdWL.png\n",
            "Predicted: scissors\n",
            " \n",
            "test/paper/k5n1w4gdm1G27rDk.png\n",
            "Predicted: scissors\n",
            " \n",
            "test/paper/k9d5xaurp8JC9DXp.png\n",
            "Predicted: scissors\n",
            " \n",
            "test/paper/kVKp9kJji4urjoMs.png\n",
            "Predicted: scissors\n",
            " \n",
            "test/paper/kdPdOkLZZW1UnOPw.png\n",
            "Predicted: scissors\n",
            " \n",
            "test/paper/keyl4nDZLxLORnr3.png\n",
            "Predicted: scissors\n",
            " \n",
            "test/paper/khFWD3MPEKPitVyA.png\n",
            "Predicted: scissors\n",
            " \n",
            "test/paper/kmBByXdkwf5Vro8P.png\n",
            "Predicted: scissors\n",
            " \n",
            "test/paper/knWd03lNhoAUPdKX.png\n",
            "Predicted: scissors\n",
            " \n",
            "test/paper/kz9TBAHLFXGnHCiF.png\n",
            "Predicted: scissors\n",
            " \n",
            "test/paper/l7pEq6tQKyUNL3GN.png\n",
            "Predicted: scissors\n",
            " \n",
            "test/paper/lGIPlKIVgwrDC17U.png\n",
            "Predicted: scissors\n",
            " \n",
            "test/paper/lZkRVz5sifz7CD66.png\n",
            "Predicted: scissors\n",
            " \n",
            "test/paper/lb8kepfzcnutbQI1.png\n",
            "Predicted: scissors\n",
            " \n",
            "test/paper/ldG6HLXeY0KilKyr.png\n",
            "Predicted: scissors\n",
            " \n",
            "test/paper/ldGrLw1rlUq1nHuw.png\n",
            "Predicted: scissors\n",
            " \n",
            "test/paper/lhr6oNI2jMsi0Z6A.png\n",
            "Predicted: scissors\n",
            " \n",
            "test/paper/lj8o8xy1TAOMQDaH.png\n",
            "Predicted: scissors\n",
            " \n",
            "test/paper/lqo55attrFxuKqlu.png\n",
            "Predicted: scissors\n",
            " \n",
            "test/paper/lxWEYgTaWJSoYSiD.png\n",
            "Predicted: scissors\n",
            " \n",
            "test/paper/m4BUXxtLrhnsSUJ2.png\n",
            "Predicted: scissors\n",
            " \n",
            "test/paper/mK7Kqflg12vHFBEK.png\n",
            "Predicted: scissors\n",
            " \n",
            "test/paper/mUqkjFi6NBsHR7tf.png\n",
            "Predicted: rock\n",
            " \n",
            "test/paper/mV9vc1ITH1PrrbF8.png\n",
            "Predicted: scissors\n",
            " \n",
            "test/paper/mWtDBJ2pprz96x22.png\n",
            "Predicted: scissors\n",
            " \n",
            "test/paper/mZW0RUegJl9SM8ck.png\n",
            "Predicted: scissors\n",
            " \n",
            "test/paper/mkUctpckc3vjOwKa.png\n",
            "Predicted: rock\n",
            " \n",
            "test/paper/mugG8B1m5Ra2aRgZ.png\n",
            "Predicted: scissors\n",
            " \n",
            "test/paper/n10pI9JDPyeM0P73.png\n",
            "Predicted: scissors\n",
            " \n",
            "test/paper/n1H2YStjFsCwmlYz.png\n",
            "Predicted: scissors\n",
            " \n",
            "test/paper/n5NXfZTRonR4iOr0.png\n",
            "Predicted: scissors\n",
            " \n",
            "test/paper/n8IzyztMwnfa5rjf.png\n",
            "Predicted: rock\n",
            " \n",
            "test/paper/n9SDT7R9BSLRNCe1.png\n",
            "Predicted: scissors\n",
            " \n",
            "test/paper/nGxiCAryWhadfu7W.png\n",
            "Predicted: scissors\n",
            " \n",
            "test/paper/nOTm1e00MAJxvpwp.png\n",
            "Predicted: rock\n",
            " \n",
            "test/paper/nPEUpKKphLYH3Bjy.png\n",
            "Predicted: scissors\n",
            " \n",
            "test/paper/nSfRj8Sp6S0GsMVm.png\n",
            "Predicted: rock\n",
            " \n",
            "test/paper/nXOxF15xZFtfflkL.png\n",
            "Predicted: scissors\n",
            " \n",
            "test/paper/nb6CUTNhXBAmjFp9.png\n",
            "Predicted: scissors\n",
            " \n",
            "test/paper/neo7ALjpzKdzVCj1.png\n",
            "Predicted: scissors\n",
            " \n",
            "test/scissors/dWIQvO3tVSLw4etp.png\n",
            "Predicted: scissors\n",
            " \n",
            "test/scissors/dkrdiLQ61q78gidZ.png\n",
            "Predicted: scissors\n",
            " \n",
            "test/scissors/dnXr5NzZKqzg8VgI.png\n",
            "Predicted: scissors\n",
            " \n",
            "test/scissors/dowAehk6HVomDGpw.png\n",
            "Predicted: scissors\n",
            " \n",
            "test/scissors/dpBDoATNj0ZtqSz3.png\n",
            "Predicted: scissors\n",
            " \n",
            "test/scissors/dpmWj9s5ily8GuyY.png\n",
            "Predicted: scissors\n",
            " \n",
            "test/scissors/dxFGJyDhnNu3iOmm.png\n",
            "Predicted: scissors\n",
            " \n",
            "test/scissors/dyXtUOfqM9sxdcXr.png\n",
            "Predicted: scissors\n",
            " \n",
            "test/scissors/e1qGNUkh9ecj7QG3.png\n",
            "Predicted: scissors\n",
            " \n",
            "test/scissors/e5dFezMV6TxIvNXA.png\n",
            "Predicted: scissors\n",
            " \n",
            "test/scissors/e6O1EpJykTCPNfvI.png\n",
            "Predicted: scissors\n",
            " \n",
            "test/scissors/e7wuzMq70FDcvaFr.png\n",
            "Predicted: scissors\n",
            " \n",
            "test/scissors/e8hlT6glM2V2RYgN.png\n",
            "Predicted: scissors\n",
            " \n",
            "test/scissors/e8p8cRK4gABNoiaZ.png\n",
            "Predicted: scissors\n",
            " \n",
            "test/scissors/eCrwTPFv8gvWXubN.png\n",
            "Predicted: rock\n",
            " \n",
            "test/scissors/eJ9GdFE4kzE0t5zh.png\n",
            "Predicted: scissors\n",
            " \n",
            "test/scissors/ePMywMOdTHYyxe1o.png\n",
            "Predicted: scissors\n",
            " \n",
            "test/scissors/eTkUxksFCvfsbVLs.png\n",
            "Predicted: scissors\n",
            " \n",
            "test/scissors/eU4VT33MEquo64QQ.png\n",
            "Predicted: scissors\n",
            " \n",
            "test/scissors/ejWJ6Ber6qqXnuag.png\n",
            "Predicted: scissors\n",
            " \n",
            "test/scissors/ejrBEOeknHrk4kCi.png\n",
            "Predicted: scissors\n",
            " \n",
            "test/scissors/eqJEQe8W9FP4TOck.png\n",
            "Predicted: scissors\n",
            " \n",
            "test/scissors/esPjow7BN3RXc4gk.png\n",
            "Predicted: scissors\n",
            " \n",
            "test/scissors/evBSpeXRlbUu82CV.png\n",
            "Predicted: scissors\n",
            " \n",
            "test/scissors/fFnXXczN4qqWFcsE.png\n",
            "Predicted: scissors\n",
            " \n",
            "test/scissors/fIryCS56DD4INQKz.png\n",
            "Predicted: rock\n",
            " \n",
            "test/scissors/fNhHWQTLa9YBoIo2.png\n",
            "Predicted: scissors\n",
            " \n",
            "test/scissors/fRMSey1LBvG1TRWj.png\n",
            "Predicted: scissors\n",
            " \n",
            "test/scissors/fRkWkCO0r8ZJ6ury.png\n",
            "Predicted: scissors\n",
            " \n",
            "test/scissors/fTwiqatiNNgEeTBi.png\n",
            "Predicted: scissors\n",
            " \n",
            "test/scissors/fXrAew7llUJLK8CU.png\n",
            "Predicted: scissors\n",
            " \n",
            "test/scissors/fYsFOMTEQ0VIy1Ma.png\n",
            "Predicted: scissors\n",
            " \n",
            "test/scissors/fdVS2hjaLlbu5u8J.png\n",
            "Predicted: scissors\n",
            " \n",
            "test/scissors/fnV8zv0atHjQzfhV.png\n",
            "Predicted: scissors\n",
            " \n",
            "test/scissors/fu07mFhmsJAtiPwr.png\n",
            "Predicted: scissors\n",
            " \n",
            "test/scissors/g1gIEqOv6YDveleA.png\n",
            "Predicted: scissors\n",
            " \n",
            "test/scissors/g2CVyHgIl83M2F0m.png\n",
            "Predicted: scissors\n",
            " \n",
            "test/scissors/g6KeAGhgzo4NSYWc.png\n",
            "Predicted: scissors\n",
            " \n",
            "test/scissors/gK1XEsUjwJ5gDOSz.png\n",
            "Predicted: scissors\n",
            " \n",
            "test/scissors/gLvAPtEJW1Ff5KLX.png\n",
            "Predicted: scissors\n",
            " \n",
            "test/scissors/gQyIUVHeIS3WYuzv.png\n",
            "Predicted: scissors\n",
            " \n",
            "test/scissors/gWsh2wyYZXw7an5G.png\n",
            "Predicted: scissors\n",
            " \n",
            "test/scissors/gbGB4caRQYsV8ZcR.png\n",
            "Predicted: scissors\n",
            " \n",
            "test/scissors/glvH49YVWOtxdOyh.png\n",
            "Predicted: scissors\n",
            " \n",
            "test/scissors/gs2BzCeH7aDo8Lhs.png\n",
            "Predicted: scissors\n",
            " \n",
            "test/scissors/gzAhbz3S2W0VukHE.png\n",
            "Predicted: scissors\n",
            " \n",
            "test/scissors/gzRmdTIFRzV34Vjl.png\n",
            "Predicted: scissors\n",
            " \n",
            "test/scissors/h5MbTDhsN1x308Je.png\n",
            "Predicted: scissors\n",
            " \n",
            "test/scissors/h8GCEjkSpQjdUuZH.png\n",
            "Predicted: scissors\n",
            " \n",
            "test/scissors/hAb9a8XAGVZnLM6m.png\n",
            "Predicted: scissors\n",
            " \n",
            "test/scissors/hJuytZrZ7fR1CWyi.png\n",
            "Predicted: scissors\n",
            " \n",
            "test/scissors/hP1nFePk6ao9xKDF.png\n",
            "Predicted: scissors\n",
            " \n",
            "test/scissors/hly8CYYf6AiQucXm.png\n",
            "Predicted: scissors\n",
            " \n",
            "test/scissors/hmu0D0hhHVAD8wXd.png\n",
            "Predicted: scissors\n",
            " \n",
            "test/scissors/hyQDSSjNFHX7Wirc.png\n",
            "Predicted: scissors\n",
            " \n",
            "test/scissors/hzfrafUqDDoL0esu.png\n",
            "Predicted: scissors\n",
            " \n",
            "test/scissors/hzvSpM4olIqXfeVt.png\n",
            "Predicted: scissors\n",
            " \n",
            "test/scissors/i0pYFjwidPeBL3je.png\n",
            "Predicted: scissors\n",
            " \n",
            "test/scissors/i5CZnAPMNTZtM13A.png\n",
            "Predicted: scissors\n",
            " \n",
            "test/scissors/iM1hcJsC387vy9YA.png\n",
            "Predicted: scissors\n",
            " \n",
            "test/scissors/iXpTSeMxuDfhayJw.png\n",
            "Predicted: scissors\n",
            " \n",
            "test/scissors/iYOrHPwEvEe7rXSL.png\n",
            "Predicted: scissors\n",
            " \n",
            "test/scissors/ik80sIT0Ao6APY3M.png\n",
            "Predicted: scissors\n",
            " \n",
            "test/scissors/inP9wrbC4x26yBW9.png\n",
            "Predicted: scissors\n",
            " \n",
            "test/scissors/ismjaxPJzOizyqOx.png\n",
            "Predicted: scissors\n",
            " \n",
            "test/scissors/itSX8Pe5BwSSbcEb.png\n",
            "Predicted: scissors\n",
            " \n",
            "test/scissors/itXNIVO7ghl2qja8.png\n",
            "Predicted: scissors\n",
            " \n",
            "test/scissors/j1EfA5DclfCJdzLb.png\n",
            "Predicted: scissors\n",
            " \n",
            "test/scissors/j3c7JHbJwmnOq6cu.png\n",
            "Predicted: scissors\n",
            " \n",
            "test/scissors/jL3CMVgsLdWznnKe.png\n",
            "Predicted: scissors\n",
            " \n",
            "test/scissors/jMVjrTQfvJ0xLTOt.png\n",
            "Predicted: scissors\n",
            " \n",
            "test/scissors/jVsCBh8HQczKdHci.png\n",
            "Predicted: scissors\n",
            " \n",
            "test/scissors/jWUoY57nkFKUUdD5.png\n",
            "Predicted: scissors\n",
            " \n",
            "test/scissors/jX4XP2bjq762S0Wj.png\n",
            "Predicted: scissors\n",
            " \n",
            "test/scissors/jbj5K46TOmR5hkWu.png\n",
            "Predicted: scissors\n",
            " \n",
            "test/scissors/jrogjyPvn83c1ZRy.png\n",
            "Predicted: scissors\n",
            " \n",
            "test/scissors/jui5QU0jWOCKf8hW.png\n",
            "Predicted: scissors\n",
            " \n",
            "test/scissors/jwdItCvoNRkssn6D.png\n",
            "Predicted: scissors\n",
            " \n",
            "test/scissors/jy6fSFQ1ynecl3P7.png\n",
            "Predicted: scissors\n",
            " \n",
            "test/scissors/k7KXWWd1IymDhMIm.png\n",
            "Predicted: scissors\n",
            " \n",
            "test/scissors/kC1AoCFrvaMKlTDk.png\n",
            "Predicted: scissors\n",
            " \n",
            "test/scissors/kCoX1GxQ9o2ZhRy9.png\n",
            "Predicted: scissors\n",
            " \n",
            "test/scissors/kH6F4XFQOxMTRZj3.png\n",
            "Predicted: scissors\n",
            " \n",
            "test/scissors/kM3ks8HWMjhbBPWU.png\n",
            "Predicted: scissors\n",
            " \n",
            "test/scissors/kP93zKVUzAJpIWpV.png\n",
            "Predicted: scissors\n",
            " \n",
            "test/scissors/kUUKyIbaWlM3GgEs.png\n",
            "Predicted: scissors\n",
            " \n",
            "test/scissors/kY0Q7raIkxwCCOk2.png\n",
            "Predicted: scissors\n",
            " \n",
            "test/scissors/khmBjKwffAIb566D.png\n",
            "Predicted: scissors\n",
            " \n",
            "test/scissors/kiUc9msxBC2UZJ5g.png\n",
            "Predicted: scissors\n",
            " \n",
            "test/scissors/kklrxqhAClWO5J80.png\n",
            "Predicted: scissors\n",
            " \n",
            "test/scissors/ksWe2SZsjOoLAzf5.png\n",
            "Predicted: rock\n",
            " \n",
            "test/scissors/kyzq1dNdXgG9OZDb.png\n",
            "Predicted: scissors\n",
            " \n",
            "test/scissors/kzjICtBZVnwJrYeI.png\n",
            "Predicted: scissors\n",
            " \n",
            "test/scissors/lGC1Z9CaHybrKaoK.png\n",
            "Predicted: scissors\n",
            " \n",
            "test/scissors/lMMb00aQLU5FP5rd.png\n",
            "Predicted: scissors\n",
            " \n",
            "test/scissors/lPWbZ5JDB0gjIv2J.png\n",
            "Predicted: scissors\n",
            " \n",
            "test/scissors/lSAWzGgHunaNt7jj.png\n",
            "Predicted: scissors\n",
            " \n",
            "test/scissors/lhD4U5er2UL6nfAH.png\n",
            "Predicted: scissors\n",
            " \n",
            "test/scissors/loXdJgVrbcZGFjas.png\n",
            "Predicted: scissors\n",
            " \n",
            "test/scissors/m5ykDPqbTkPOEgWW.png\n",
            "Predicted: scissors\n",
            " \n",
            "test/scissors/m7ELYBy0O4wx0YqJ.png\n",
            "Predicted: scissors\n",
            " \n",
            "test/scissors/mAjn51U2iJwlh99P.png\n",
            "Predicted: scissors\n",
            " \n",
            "test/scissors/mBHQsHWDcRvtLIKC.png\n",
            "Predicted: scissors\n",
            " \n",
            "test/scissors/mIFCv2K3nBdTMjku.png\n",
            "Predicted: scissors\n",
            " \n",
            "test/scissors/mRlkMzgNq3PxHHe4.png\n",
            "Predicted: scissors\n",
            " \n",
            "test/scissors/mViP022ujNQr6UX1.png\n",
            "Predicted: scissors\n",
            " \n",
            "test/scissors/mdSPppG9v9OmnIyY.png\n",
            "Predicted: scissors\n",
            " \n",
            "test/scissors/mfrG6yVMg6CEzoCN.png\n",
            "Predicted: scissors\n",
            " \n",
            "test/scissors/mmLhBFvXWgD957XY.png\n",
            "Predicted: scissors\n",
            " \n",
            "test/scissors/mrWRR4bVPDvIIg7D.png\n",
            "Predicted: scissors\n",
            " \n",
            "test/scissors/msOEQAWveiL7r5rp.png\n",
            "Predicted: scissors\n",
            " \n",
            "test/scissors/mtLouezQUnTbfEgj.png\n",
            "Predicted: rock\n",
            " \n",
            "test/scissors/mxNMUcdf5UjHfyZQ.png\n",
            "Predicted: scissors\n",
            " \n",
            "test/scissors/mxyADQuZCMwE1Nv5.png\n",
            "Predicted: scissors\n",
            " \n",
            "test/scissors/n3OFHC3Uz9y9JsaM.png\n",
            "Predicted: scissors\n",
            " \n",
            "test/scissors/n8R1AoBrBUeqH7wZ.png\n",
            "Predicted: scissors\n",
            " \n",
            "test/scissors/nHMXDFvdVQ8Vb0F7.png\n",
            "Predicted: scissors\n",
            " \n",
            "test/scissors/nIwv11WKj5Ch85mv.png\n",
            "Predicted: scissors\n",
            " \n",
            "test/scissors/nOIg15ZJ3XuUVkT3.png\n",
            "Predicted: scissors\n",
            " \n",
            "test/scissors/nPGqkGXIocWAZgzO.png\n",
            "Predicted: scissors\n",
            " \n"
          ]
        },
        {
          "output_type": "display_data",
          "data": {
            "image/png": "[encoded data removed]",
            "text/plain": [
              "<Figure size 432x288 with 1 Axes>"
            ]
          },
          "metadata": {}
        }
      ]
    },
    {
      "cell_type": "markdown",
      "metadata": {
        "id": "-zzfYOy8U4TX"
      },
      "source": [
        "## Kegiatan 2 **(berkelompok)**\n",
        "30 poin"
      ]
    },
    {
      "cell_type": "markdown",
      "metadata": {
        "id": "OuUCK4qcEp97"
      },
      "source": [
        "**Ketentuan Wajib**\n",
        "* Tulis dokumentasi tugas kelompok anda dalam file README.md\n",
        "* Cek daftar dataset seluruh praktikan [disini](https://docs.google.com/spreadsheets/d/1qyu5AVDhPhegpRTbNaDoq5qXX4_CX09Q7tYyD-fkF_c/edit?usp=sharing)\n",
        "* Seluruh data dan progress pengerjaan tugas kelompok harus berada dalam github repository sebelum praktikum dimulai\n",
        "* Tidak diperbolehkan berganti anggota kelompok selama satu semester ini\n",
        "* Tidak diperbolehkan berganti repository selama mengerjakan tugas kelompok ini\n",
        "* **Tidak diperbolehkan berganti dataset atau jurnal rujukan**\n",
        "* Pastikan anda menggunakan akun github pribadi untuk melakukan commit dan push\n",
        "\n",
        "**Penilaian**\n",
        "* Keaktifan dalam tim\n",
        "* Kontribusi dalam proyek dan tim\n",
        "* Penerapan prinsip kerja Agile (sprint backlog dan report terdokumentasikan dengan baik)\n",
        "* Progress pengerjaan tugas kelompok\n",
        "* Pemahaman masing-masing anggota tim terhadap tugas yang dikerjakan\n",
        "* Pendokumentasian proyek \"clear and clean documentation\"\n",
        "\n",
        "**Materi pendukung**\n",
        "* [Project documentation](https://realpython.com/documenting-python-code)\n",
        "* [Github readme](https://docs.github.com/en/github/writing-on-github/getting-started-with-writing-and-formatting-on-github/basic-writing-and-formatting-syntax)\n",
        "* [Sprint backlog](https://www.lucidchart.com/blog/how-to-develop-a-product-backlog-in-agile)"
      ]
    },
    {
      "cell_type": "markdown",
      "metadata": {
        "id": "u8-XbSmMp0NT"
      },
      "source": [
        "**Tugas**\n",
        "\n",
        "Melanjutkan tugas kelompok di modul 1 & 2 sekarang kerjakan beberapa poin berikut untuk didemokan kepada asisten masing-masing.\n",
        "\n",
        "*   Melakukan proses preprocessing dataset dengan ketentuan:\n",
        " * augmentasi data menggunakan ImageDataGenerator\n",
        " * splitting dataset menjadi (75% train, 14% validation, 1% test)\n",
        "*   Melakukan training beberapa skema model menggunakan model CNN sederhana buatan sendiri **(minimal 2 model)** *tidak diperbolehkan menggunakan transfer learning* \n",
        " * Menerapkan proses Convolution\n",
        " * Menerapkan proses Pooling\n",
        " * Menerapkan Dropout\n",
        " * Menerpakan BatchNormalization\n",
        " * Model dengan beberapa variasi learning rate\n",
        " * Minimal 100 epoch per model\n",
        "* Menyimpan model yang telah di training kedalam file `.h5` [Lihat disini](https://www.tensorflow.org/tutorials/keras/save_and_load)\n",
        "*  Mencatat hasil perkembangan tugas kelompok dalam file `sprint_project.xlsx` tandai masing-masing task dengan status **Done** *untuk task yang telah selesai dikerjakan*, **On Going** *untuk task yang dalam proses pengerjaan*, **Waiting** *untuk task yang belum atau akan dikerjakan*\n",
        "* Pastikan anda menulis tanggal mulai dan tanggal selesai masing-masing task dengan benar\n",
        "* Pastikan anda menulis penanggung jawab masing-masing task (Penanggung jawab bertugas menyelesaikan dan menuntaskan masing-masing task yang diberikan)\n",
        "* `commit` dan `push` seluruh perkerjaan yang anda lakukan kedalam branch pribadi dalam repository tugas kelompok yang telah anda buat sebelumnya.\n",
        "* Presentasikan kepada asisten tentang apa yang anda lakukakan selama mengerjakan tugas kelompok ini. Ceritakan tentang tugas masing-masing anggota,  kendala dalam mengerjakan tugas sampai solusi yang anda lakukan saat mengerjakan tugas kelompok ini.\n",
        "\n"
      ]
    },
    {
      "cell_type": "code",
      "metadata": {
        "id": "2UzMx0sxRdH3"
      },
      "source": [
        "from google.colab import drive\n",
        "drive.mount('/content/drive')"
      ],
      "execution_count": null,
      "outputs": []
    },
    {
      "cell_type": "code",
      "metadata": {
        "id": "J8WyP5lqRdUu"
      },
      "source": [
        "cd skin-lesions/"
      ],
      "execution_count": null,
      "outputs": []
    },
    {
      "cell_type": "code",
      "metadata": {
        "id": "aemaNblcRdXh"
      },
      "source": [
        "ls"
      ],
      "execution_count": null,
      "outputs": []
    },
    {
      "cell_type": "code",
      "metadata": {
        "id": "bnmpj6ogRdaC"
      },
      "source": [
        "train_dir = \"train\"\n",
        "test_dir = \"test\"\n",
        "valid_dir = \"valid\""
      ],
      "execution_count": null,
      "outputs": []
    },
    {
      "cell_type": "code",
      "metadata": {
        "id": "skUxnxu9cI8V"
      },
      "source": [
        "!pip install split-folders\n",
        "\n",
        "import splitfolders\n",
        "\n",
        "splitfolders.ratio(\"Dataset\", output=\"Newest Dataset 75:14:1\", seed=1337, \n",
        "ratio=(.75, .14, .1), group_prefix=None)"
      ],
      "execution_count": null,
      "outputs": []
    },
    {
      "cell_type": "code",
      "metadata": {
        "id": "cBfU95B6Rdcg"
      },
      "source": [
        "from keras.preprocessing.image import ImageDataGenerator\n",
        "from keras.preprocessing.image import img_to_array\n",
        "from keras.preprocessing.image import load_img\n",
        "\n",
        "IMAGE_PATH = 'robert-woeger-9t8zwUBy8Uw-unsplash-1.jpg'\n",
        "OUTPUT_DIRECTORY = '/Users/macprolucas/article_DA/output'\n",
        "image = load_img(IMAGE_PATH)\n",
        "image = img_to_array(image)\n",
        "image = np.expand_dims(image, axis=0) \n",
        "\n",
        "datagen = ImageDataGenerator(height_shift_range=0.2, width_shift_range=0.2)\n",
        "PREFIX = 'Shifted'\n",
        "imGen = datagen.flow(image, batch_size=1, save_to_dir = OUTPUT_DIRECTORY, \n",
        "                    save_prefix=PREFIX, save_format='jpg')\n",
        "for i in range(6):\n",
        "    batch = imGen.next()"
      ],
      "execution_count": null,
      "outputs": []
    },
    {
      "cell_type": "code",
      "metadata": {
        "id": "WLaUl7OlRdfc"
      },
      "source": [
        ""
      ],
      "execution_count": null,
      "outputs": []
    },
    {
      "cell_type": "code",
      "metadata": {
        "id": "8dPRZUX7Rdhw"
      },
      "source": [
        ""
      ],
      "execution_count": null,
      "outputs": []
    },
    {
      "cell_type": "code",
      "metadata": {
        "id": "vgZ848azRdkR"
      },
      "source": [
        ""
      ],
      "execution_count": null,
      "outputs": []
    }
  ]
}